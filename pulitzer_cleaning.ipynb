{
 "cells": [
  {
   "cell_type": "markdown",
   "id": "4e7d35c1",
   "metadata": {},
   "source": [
    "# Análise e limpeza de dados dos indicados ao Prêmio Pulitzer"
   ]
  },
  {
   "cell_type": "markdown",
   "id": "7f01cba5",
   "metadata": {},
   "source": [
    "Esta é uma análise exploratória e de limpeza de uma planilha contendo informações sobre livros indicados ao [Prêmio Pulitzer](https://www.pulitzer.org/).\n",
    "\n",
    "Os dados desta planilha foram extraídos utilizando o pacote [`scrapereads`](https://github.com/guilhermecxe/scrapereads), um projeto de web scraping focado em dados de livros. As informações, especialmente as colunas relacionadas a IDs, foram obtidas do site [Goodreads](https://www.goodreads.com/) e extraídas em dia 22 de junho de 2024.\n",
    "\n",
    "Devido à diversidade das obras elegíveis para o Pulitzer em diferentes categorias, é natural que os dados extraídos do Goodreads incluam apenas livros e outras categorias relacionadas a este tipo de obra. Consequentemente, a maioria das categorias relacionadas ao jornalismo, assim como as categorias *Music* e *Special Citation*, não estão presentes na base de dados utilizada neste estudo.\n",
    "\n",
    "Por fim, informa-se que o objetivo deste projeto é normalizar os dados referentes às obras premiadas nas áreas que o Prêmio Pulitzer chama de \"Letters & Drama\". Embora o foco seja nas obras vencedoras, algumas obras apenas indicadas ao prêmio ainda podem constar na base de dados ao final deste processo."
   ]
  },
  {
   "cell_type": "markdown",
   "id": "1bcba074",
   "metadata": {},
   "source": [
    "## Sumário\n",
    "\n",
    "- Configuração do ambiente\n",
    "- Importação de dados\n",
    "- Exploração inicial dos dados\n",
    "- Formatação das colunas\n",
    "- Correção das categorias de premiação\n",
    "    - Distinção entre vencedores e indicados\n",
    "    - Normalização de nomes de categorias\n",
    "    - Tratamento de múltiplas indicações\n",
    "    - Categoria *Biography or Autobiography*\n",
    "    - Categoria *Letters Award*\n",
    "- Identificação e remoção de registros duplicados\n",
    "- Finalização"
   ]
  },
  {
   "cell_type": "markdown",
   "id": "bebbf543",
   "metadata": {},
   "source": [
    "## Configuração do ambiente"
   ]
  },
  {
   "cell_type": "code",
   "execution_count": 1,
   "id": "acb6d110",
   "metadata": {},
   "outputs": [],
   "source": [
    "# Importação dos pacotes necessários\n",
    "import pandas as pd\n",
    "import ast\n",
    "import re"
   ]
  },
  {
   "cell_type": "markdown",
   "id": "e9b0e743",
   "metadata": {},
   "source": [
    "## Importação de dados"
   ]
  },
  {
   "cell_type": "code",
   "execution_count": 2,
   "id": "0057244e",
   "metadata": {},
   "outputs": [
    {
     "name": "stdout",
     "output_type": "stream",
     "text": [
      "Shape: (1035, 12)\n"
     ]
    },
    {
     "data": {
      "text/html": [
       "<div>\n",
       "<style scoped>\n",
       "    .dataframe tbody tr th:only-of-type {\n",
       "        vertical-align: middle;\n",
       "    }\n",
       "\n",
       "    .dataframe tbody tr th {\n",
       "        vertical-align: top;\n",
       "    }\n",
       "\n",
       "    .dataframe thead th {\n",
       "        text-align: right;\n",
       "    }\n",
       "</style>\n",
       "<table border=\"1\" class=\"dataframe\">\n",
       "  <thead>\n",
       "    <tr style=\"text-align: right;\">\n",
       "      <th></th>\n",
       "      <th>id</th>\n",
       "      <th>title</th>\n",
       "      <th>author</th>\n",
       "      <th>prize</th>\n",
       "    </tr>\n",
       "  </thead>\n",
       "  <tbody>\n",
       "    <tr>\n",
       "      <th>0</th>\n",
       "      <td>213009370</td>\n",
       "      <td>Primary Trust</td>\n",
       "      <td>Eboni Booth</td>\n",
       "      <td>Pulitzer Prize for Drama (2024)</td>\n",
       "    </tr>\n",
       "    <tr>\n",
       "      <th>1</th>\n",
       "      <td>77920745</td>\n",
       "      <td>A Day in the Life of Abed Salama: Anatomy of a...</td>\n",
       "      <td>Nathan Thrall</td>\n",
       "      <td>Pulitzer Prize for General Nonfiction (2024)</td>\n",
       "    </tr>\n",
       "    <tr>\n",
       "      <th>2</th>\n",
       "      <td>75527796</td>\n",
       "      <td>Tripas: Poems</td>\n",
       "      <td>Brandon Som</td>\n",
       "      <td>Pulitzer Prize for Poetry (2024)</td>\n",
       "    </tr>\n",
       "    <tr>\n",
       "      <th>3</th>\n",
       "      <td>61111247</td>\n",
       "      <td>Liliana's Invincible Summer: A Sister's Search...</td>\n",
       "      <td>Cristina Rivera Garza</td>\n",
       "      <td>Pulitzer Prize for Memoir or Autobiography (2024)</td>\n",
       "    </tr>\n",
       "    <tr>\n",
       "      <th>4</th>\n",
       "      <td>62039291</td>\n",
       "      <td>King: A Life</td>\n",
       "      <td>Jonathan Eig</td>\n",
       "      <td>Pulitzer Prize for Biography (2024)</td>\n",
       "    </tr>\n",
       "  </tbody>\n",
       "</table>\n",
       "</div>"
      ],
      "text/plain": [
       "          id                                              title  \\\n",
       "0  213009370                                      Primary Trust   \n",
       "1   77920745  A Day in the Life of Abed Salama: Anatomy of a...   \n",
       "2   75527796                                      Tripas: Poems   \n",
       "3   61111247  Liliana's Invincible Summer: A Sister's Search...   \n",
       "4   62039291                                       King: A Life   \n",
       "\n",
       "                  author                                              prize  \n",
       "0            Eboni Booth                    Pulitzer Prize for Drama (2024)  \n",
       "1          Nathan Thrall       Pulitzer Prize for General Nonfiction (2024)  \n",
       "2            Brandon Som                   Pulitzer Prize for Poetry (2024)  \n",
       "3  Cristina Rivera Garza  Pulitzer Prize for Memoir or Autobiography (2024)  \n",
       "4           Jonathan Eig                Pulitzer Prize for Biography (2024)  "
      ]
     },
     "execution_count": 2,
     "metadata": {},
     "output_type": "execute_result"
    }
   ],
   "source": [
    "# Importando os dados\n",
    "df = pd.read_excel('data/pulitzer/pulitzer.xlsx')\n",
    "\n",
    "# Definindo as colunas principais para exibição\n",
    "main_columns = ['id', 'title', 'author', 'prize']\n",
    "\n",
    "# Exibindo uma amostra dos dados\n",
    "print('Shape:', df.shape)\n",
    "df[main_columns].head()"
   ]
  },
  {
   "cell_type": "markdown",
   "id": "334f6558",
   "metadata": {},
   "source": [
    "## Exploração inicial dos dados"
   ]
  },
  {
   "cell_type": "markdown",
   "id": "3fdb891d",
   "metadata": {},
   "source": [
    "Aqui é feita a análise de valores ausentes, dos tipos de dados e das duplicidades."
   ]
  },
  {
   "cell_type": "code",
   "execution_count": 3,
   "id": "484e8fc4",
   "metadata": {},
   "outputs": [
    {
     "data": {
      "text/plain": [
       "id                 0\n",
       "editions_id        0\n",
       "title              0\n",
       "author             0\n",
       "author_id          0\n",
       "published_year     4\n",
       "rating             0\n",
       "ratings_count      0\n",
       "reviews_count      0\n",
       "genres             0\n",
       "synopsis          17\n",
       "prize              0\n",
       "dtype: int64"
      ]
     },
     "execution_count": 3,
     "metadata": {},
     "output_type": "execute_result"
    }
   ],
   "source": [
    "# Exibindo a quantidade de valores nulos por coluna\n",
    "df.isna().sum()"
   ]
  },
  {
   "cell_type": "markdown",
   "id": "2e87a6ec",
   "metadata": {},
   "source": [
    "É aceitável a falta de informações acerca da sinopse e do ano de publicação de algumas obras."
   ]
  },
  {
   "cell_type": "code",
   "execution_count": 4,
   "id": "82a66c53",
   "metadata": {},
   "outputs": [
    {
     "data": {
      "text/plain": [
       "0"
      ]
     },
     "execution_count": 4,
     "metadata": {},
     "output_type": "execute_result"
    }
   ],
   "source": [
    "# Obtendo a quantidade de linhas duplicadas\n",
    "df.duplicated().sum()"
   ]
  },
  {
   "cell_type": "code",
   "execution_count": 5,
   "id": "94576bf8",
   "metadata": {},
   "outputs": [
    {
     "data": {
      "text/plain": [
       "id                1035\n",
       "editions_id       1035\n",
       "title             1025\n",
       "author             868\n",
       "author_id          868\n",
       "published_year     112\n",
       "rating             157\n",
       "ratings_count      788\n",
       "reviews_count      508\n",
       "genres             860\n",
       "synopsis          1012\n",
       "prize              795\n",
       "dtype: int64"
      ]
     },
     "execution_count": 5,
     "metadata": {},
     "output_type": "execute_result"
    }
   ],
   "source": [
    "# Obtendo a quantidade de valores únicos por coluna\n",
    "df.nunique()"
   ]
  },
  {
   "cell_type": "markdown",
   "id": "c26ff52e",
   "metadata": {},
   "source": [
    "É suspeito que hajam obras com o mesmo título e a mesma sinopse."
   ]
  },
  {
   "cell_type": "code",
   "execution_count": 6,
   "id": "59292613",
   "metadata": {},
   "outputs": [
    {
     "data": {
      "text/html": [
       "<div>\n",
       "<style scoped>\n",
       "    .dataframe tbody tr th:only-of-type {\n",
       "        vertical-align: middle;\n",
       "    }\n",
       "\n",
       "    .dataframe tbody tr th {\n",
       "        vertical-align: top;\n",
       "    }\n",
       "\n",
       "    .dataframe thead th {\n",
       "        text-align: right;\n",
       "    }\n",
       "</style>\n",
       "<table border=\"1\" class=\"dataframe\">\n",
       "  <thead>\n",
       "    <tr style=\"text-align: right;\">\n",
       "      <th></th>\n",
       "      <th>id</th>\n",
       "      <th>title</th>\n",
       "      <th>author</th>\n",
       "      <th>prize</th>\n",
       "    </tr>\n",
       "  </thead>\n",
       "  <tbody>\n",
       "    <tr>\n",
       "      <th>1029</th>\n",
       "      <td>344342</td>\n",
       "      <td>Selected Poems</td>\n",
       "      <td>Richard Hugo</td>\n",
       "      <td>Pulitzer Prize Nominee for Poetry (1980)</td>\n",
       "    </tr>\n",
       "    <tr>\n",
       "      <th>990</th>\n",
       "      <td>2982704</td>\n",
       "      <td>Collected Poems</td>\n",
       "      <td>Josephine Miles</td>\n",
       "      <td>Pulitzer Prize Nominee for Poetry (1984)</td>\n",
       "    </tr>\n",
       "    <tr>\n",
       "      <th>713</th>\n",
       "      <td>13069032</td>\n",
       "      <td>Collected Poems</td>\n",
       "      <td>Jack Gilbert</td>\n",
       "      <td>Pulitzer Prize Nominee for Poetry (2013)</td>\n",
       "    </tr>\n",
       "    <tr>\n",
       "      <th>544</th>\n",
       "      <td>790418</td>\n",
       "      <td>Selected Poems</td>\n",
       "      <td>Conrad Aiken</td>\n",
       "      <td>Pulitzer Prize for Poetry (1930)</td>\n",
       "    </tr>\n",
       "    <tr>\n",
       "      <th>538</th>\n",
       "      <td>17307602</td>\n",
       "      <td>The Collected Poems</td>\n",
       "      <td>Robert Frost</td>\n",
       "      <td>Pulitzer Prize for Poetry (1931)</td>\n",
       "    </tr>\n",
       "    <tr>\n",
       "      <th>429</th>\n",
       "      <td>6500113</td>\n",
       "      <td>Collected Poems</td>\n",
       "      <td>Marianne Moore</td>\n",
       "      <td>Pulitzer Prize for Poetry (1952)</td>\n",
       "    </tr>\n",
       "    <tr>\n",
       "      <th>417</th>\n",
       "      <td>75504</td>\n",
       "      <td>The Collected Poems</td>\n",
       "      <td>Wallace Stevens</td>\n",
       "      <td>Pulitzer Prize for Poetry (1955)</td>\n",
       "    </tr>\n",
       "    <tr>\n",
       "      <th>321</th>\n",
       "      <td>1012923</td>\n",
       "      <td>Collected Poems</td>\n",
       "      <td>James Wright</td>\n",
       "      <td>Pulitzer Prize for Poetry (1972)</td>\n",
       "    </tr>\n",
       "    <tr>\n",
       "      <th>289</th>\n",
       "      <td>336479</td>\n",
       "      <td>The Collected Poems</td>\n",
       "      <td>Howard Nemerov</td>\n",
       "      <td>Pulitzer Prize for Poetry (1978)</td>\n",
       "    </tr>\n",
       "    <tr>\n",
       "      <th>276</th>\n",
       "      <td>1649407</td>\n",
       "      <td>Selected Poems</td>\n",
       "      <td>Donald Justice</td>\n",
       "      <td>Pulitzer Prize for Poetry (1980)</td>\n",
       "    </tr>\n",
       "    <tr>\n",
       "      <th>266</th>\n",
       "      <td>2078076</td>\n",
       "      <td>The Collected Poems</td>\n",
       "      <td>Sylvia Plath</td>\n",
       "      <td>Pulitzer Prize for Poetry (1982)</td>\n",
       "    </tr>\n",
       "    <tr>\n",
       "      <th>257</th>\n",
       "      <td>1100551</td>\n",
       "      <td>Selected Poems</td>\n",
       "      <td>Galway Kinnell</td>\n",
       "      <td>Pulitzer Prize for Poetry (1983)</td>\n",
       "    </tr>\n",
       "    <tr>\n",
       "      <th>203</th>\n",
       "      <td>268500</td>\n",
       "      <td>Selected Poems</td>\n",
       "      <td>James Tate</td>\n",
       "      <td>Pulitzer Prize for Poetry (1992)</td>\n",
       "    </tr>\n",
       "  </tbody>\n",
       "</table>\n",
       "</div>"
      ],
      "text/plain": [
       "            id                title           author  \\\n",
       "1029    344342       Selected Poems     Richard Hugo   \n",
       "990    2982704      Collected Poems  Josephine Miles   \n",
       "713   13069032      Collected Poems     Jack Gilbert   \n",
       "544     790418       Selected Poems     Conrad Aiken   \n",
       "538   17307602  The Collected Poems     Robert Frost   \n",
       "429    6500113      Collected Poems   Marianne Moore   \n",
       "417      75504  The Collected Poems  Wallace Stevens   \n",
       "321    1012923      Collected Poems     James Wright   \n",
       "289     336479  The Collected Poems   Howard Nemerov   \n",
       "276    1649407       Selected Poems   Donald Justice   \n",
       "266    2078076  The Collected Poems     Sylvia Plath   \n",
       "257    1100551       Selected Poems   Galway Kinnell   \n",
       "203     268500       Selected Poems       James Tate   \n",
       "\n",
       "                                         prize  \n",
       "1029  Pulitzer Prize Nominee for Poetry (1980)  \n",
       "990   Pulitzer Prize Nominee for Poetry (1984)  \n",
       "713   Pulitzer Prize Nominee for Poetry (2013)  \n",
       "544           Pulitzer Prize for Poetry (1930)  \n",
       "538           Pulitzer Prize for Poetry (1931)  \n",
       "429           Pulitzer Prize for Poetry (1952)  \n",
       "417           Pulitzer Prize for Poetry (1955)  \n",
       "321           Pulitzer Prize for Poetry (1972)  \n",
       "289           Pulitzer Prize for Poetry (1978)  \n",
       "276           Pulitzer Prize for Poetry (1980)  \n",
       "266           Pulitzer Prize for Poetry (1982)  \n",
       "257           Pulitzer Prize for Poetry (1983)  \n",
       "203           Pulitzer Prize for Poetry (1992)  "
      ]
     },
     "execution_count": 6,
     "metadata": {},
     "output_type": "execute_result"
    }
   ],
   "source": [
    "# Obtendo as obras que possuem títulos que se repetem\n",
    "df[df['title'].duplicated(keep=False)][main_columns].sort_values('prize')"
   ]
  },
  {
   "cell_type": "markdown",
   "id": "f5939fbe",
   "metadata": {},
   "source": [
    "Apesar da repetição nos títulos, não há uma multiplicidade redundante de obras, todas se referem a diferentes autores e diferentes premiações."
   ]
  },
  {
   "cell_type": "code",
   "execution_count": 7,
   "id": "8c9b029a",
   "metadata": {},
   "outputs": [
    {
     "data": {
      "text/html": [
       "<div>\n",
       "<style scoped>\n",
       "    .dataframe tbody tr th:only-of-type {\n",
       "        vertical-align: middle;\n",
       "    }\n",
       "\n",
       "    .dataframe tbody tr th {\n",
       "        vertical-align: top;\n",
       "    }\n",
       "\n",
       "    .dataframe thead th {\n",
       "        text-align: right;\n",
       "    }\n",
       "</style>\n",
       "<table border=\"1\" class=\"dataframe\">\n",
       "  <thead>\n",
       "    <tr style=\"text-align: right;\">\n",
       "      <th></th>\n",
       "      <th>id</th>\n",
       "      <th>title</th>\n",
       "      <th>author</th>\n",
       "      <th>prize</th>\n",
       "      <th>synopsis</th>\n",
       "    </tr>\n",
       "  </thead>\n",
       "  <tbody>\n",
       "    <tr>\n",
       "      <th>498</th>\n",
       "      <td>3210254</td>\n",
       "      <td>The Road To Reunion 1865-1900</td>\n",
       "      <td>Paul H. Buck</td>\n",
       "      <td>Pulitzer Prize for History (1938)</td>\n",
       "      <td>Many of the earliest books, particularly those...</td>\n",
       "    </tr>\n",
       "    <tr>\n",
       "      <th>499</th>\n",
       "      <td>2361549</td>\n",
       "      <td>Pedlar's Progress: The Life of Bronson Alcott</td>\n",
       "      <td>Odell Shepard</td>\n",
       "      <td>Pulitzer Prize for Biography or Autobiography ...</td>\n",
       "      <td>Many of the earliest books, particularly those...</td>\n",
       "    </tr>\n",
       "    <tr>\n",
       "      <th>525</th>\n",
       "      <td>2595796</td>\n",
       "      <td>John Hay: From Poetry to Politics</td>\n",
       "      <td>Tyler Dennett</td>\n",
       "      <td>Pulitzer Prize for Biography or Autobiography ...</td>\n",
       "      <td>Many of the earliest books, particularly those...</td>\n",
       "    </tr>\n",
       "    <tr>\n",
       "      <th>610</th>\n",
       "      <td>10984172</td>\n",
       "      <td>Julia Ward Howe, 1819-1910</td>\n",
       "      <td>Laura Elizabeth Richards</td>\n",
       "      <td>Pulitzer Prize for Biography or Autobiography ...</td>\n",
       "      <td>Many of the earliest books, particularly those...</td>\n",
       "    </tr>\n",
       "    <tr>\n",
       "      <th>469</th>\n",
       "      <td>2192174</td>\n",
       "      <td>The American Leonardo: A Life of Samuel F.B. M...</td>\n",
       "      <td>Carleton Mabee</td>\n",
       "      <td>Pulitzer Prize for Biography or Autobiography ...</td>\n",
       "      <td>This scarce antiquarian book is a facsimile re...</td>\n",
       "    </tr>\n",
       "    <tr>\n",
       "      <th>600</th>\n",
       "      <td>2468675</td>\n",
       "      <td>The Old Road to Paradise</td>\n",
       "      <td>Margaret Widdemer</td>\n",
       "      <td>Pulitzer Prize for Poetry (1919)</td>\n",
       "      <td>This scarce antiquarian book is a facsimile re...</td>\n",
       "    </tr>\n",
       "    <tr>\n",
       "      <th>604</th>\n",
       "      <td>6070378</td>\n",
       "      <td>Why Marry?</td>\n",
       "      <td>Jesse Lynch Williams</td>\n",
       "      <td>Pulitzer Prize for Drama (1918)</td>\n",
       "      <td>This scarce antiquarian book is a facsimile re...</td>\n",
       "    </tr>\n",
       "    <tr>\n",
       "      <th>514</th>\n",
       "      <td>7042945</td>\n",
       "      <td>The Colonial Period of American History: The S...</td>\n",
       "      <td>Charles McLean Andrews</td>\n",
       "      <td>Pulitzer Prize for History (1935)</td>\n",
       "      <td>This three-volume work won the 1935 Pulitzer P...</td>\n",
       "    </tr>\n",
       "    <tr>\n",
       "      <th>515</th>\n",
       "      <td>7702343</td>\n",
       "      <td>The Colonial Period of American History: The S...</td>\n",
       "      <td>Charles McLean Andrews</td>\n",
       "      <td>Pulitzer Prize for History (1935)</td>\n",
       "      <td>This three-volume work won the 1935 Pulitzer P...</td>\n",
       "    </tr>\n",
       "  </tbody>\n",
       "</table>\n",
       "</div>"
      ],
      "text/plain": [
       "           id                                              title  \\\n",
       "498   3210254                      The Road To Reunion 1865-1900   \n",
       "499   2361549      Pedlar's Progress: The Life of Bronson Alcott   \n",
       "525   2595796                  John Hay: From Poetry to Politics   \n",
       "610  10984172                         Julia Ward Howe, 1819-1910   \n",
       "469   2192174  The American Leonardo: A Life of Samuel F.B. M...   \n",
       "600   2468675                           The Old Road to Paradise   \n",
       "604   6070378                                         Why Marry?   \n",
       "514   7042945  The Colonial Period of American History: The S...   \n",
       "515   7702343  The Colonial Period of American History: The S...   \n",
       "\n",
       "                       author  \\\n",
       "498              Paul H. Buck   \n",
       "499             Odell Shepard   \n",
       "525             Tyler Dennett   \n",
       "610  Laura Elizabeth Richards   \n",
       "469            Carleton Mabee   \n",
       "600         Margaret Widdemer   \n",
       "604      Jesse Lynch Williams   \n",
       "514    Charles McLean Andrews   \n",
       "515    Charles McLean Andrews   \n",
       "\n",
       "                                                 prize  \\\n",
       "498                  Pulitzer Prize for History (1938)   \n",
       "499  Pulitzer Prize for Biography or Autobiography ...   \n",
       "525  Pulitzer Prize for Biography or Autobiography ...   \n",
       "610  Pulitzer Prize for Biography or Autobiography ...   \n",
       "469  Pulitzer Prize for Biography or Autobiography ...   \n",
       "600                   Pulitzer Prize for Poetry (1919)   \n",
       "604                    Pulitzer Prize for Drama (1918)   \n",
       "514                  Pulitzer Prize for History (1935)   \n",
       "515                  Pulitzer Prize for History (1935)   \n",
       "\n",
       "                                              synopsis  \n",
       "498  Many of the earliest books, particularly those...  \n",
       "499  Many of the earliest books, particularly those...  \n",
       "525  Many of the earliest books, particularly those...  \n",
       "610  Many of the earliest books, particularly those...  \n",
       "469  This scarce antiquarian book is a facsimile re...  \n",
       "600  This scarce antiquarian book is a facsimile re...  \n",
       "604  This scarce antiquarian book is a facsimile re...  \n",
       "514  This three-volume work won the 1935 Pulitzer P...  \n",
       "515  This three-volume work won the 1935 Pulitzer P...  "
      ]
     },
     "execution_count": 7,
     "metadata": {},
     "output_type": "execute_result"
    }
   ],
   "source": [
    "# Obtendo as obras que possuem sinopses que se repetem e ignorando sinopses nulas\n",
    "df[df['synopsis'].duplicated(keep=False) & ~df['synopsis'].isna()][main_columns + ['synopsis']].sort_values('synopsis')"
   ]
  },
  {
   "cell_type": "code",
   "execution_count": 8,
   "id": "06ddd086",
   "metadata": {},
   "outputs": [
    {
     "name": "stdout",
     "output_type": "stream",
     "text": [
      "Many of the earliest books, particularly those dating back to the 1900s and before, are now extremely scarce and increasingly expensive. We are republishing these classic works in affordable, high quality, modern editions, using the original text and artwork. \n",
      "\n",
      "This three-volume work won the 1935 Pulitzer Prize in History. \n",
      "\n",
      "This scarce antiquarian book is a facsimile reprint of the original. Due to its age, it may contain imperfections such as marks, notations, marginalia and flawed pages. Because we believe this work is culturally important, we have made it available as part of our commitment for protecting, preserving, and promoting the world's literature in affordable, high quality, modern editions that are true to the original work. \n",
      "\n"
     ]
    }
   ],
   "source": [
    "# Exibindo as sinopses que se repetiram\n",
    "for synopsis in df[df['synopsis'].duplicated() & ~df['synopsis'].isna()]['synopsis'].unique():\n",
    "    print(synopsis, '\\n')"
   ]
  },
  {
   "cell_type": "markdown",
   "id": "e0087266",
   "metadata": {},
   "source": [
    "Apesar da repetição das sinopses, observa-se que dois destes textos podem descrever diferentes obras, não sendo necessário tomar providências para alterar estes dados.\n",
    "\n",
    "No entanto, observa-se também a repetição da obra intitulada \"The Colonial Period of American History\". Vamos verificar a particularidade desta repetição."
   ]
  },
  {
   "cell_type": "code",
   "execution_count": 9,
   "id": "6c31fab8",
   "metadata": {},
   "outputs": [
    {
     "data": {
      "text/plain": [
       "['The Colonial Period of American History: The Settlements, Volume II',\n",
       " 'The Colonial Period of American History: The Settlements, Volume I']"
      ]
     },
     "execution_count": 9,
     "metadata": {},
     "output_type": "execute_result"
    }
   ],
   "source": [
    "# Obtendo o título completo dos registros repetidos da obra \"The Colonial Period of American History\"\n",
    "df[df['title'].str.contains('The Colonial Period')][main_columns]['title'].tolist()"
   ]
  },
  {
   "cell_type": "markdown",
   "id": "97cf383d",
   "metadata": {},
   "source": [
    "Por não haver menção quanto ao volume no site dos premiados do Pulitzer, manteremos apenas o primeiro volume deste livro."
   ]
  },
  {
   "cell_type": "code",
   "execution_count": 10,
   "id": "6848b358",
   "metadata": {},
   "outputs": [],
   "source": [
    "# Removendo o volume II de The Colonial Period of American History\n",
    "index = df[df['title'] == 'The Colonial Period of American History: The Settlements, Volume II'].index[0]\n",
    "df.drop(index, axis='index', inplace=True)"
   ]
  },
  {
   "cell_type": "code",
   "execution_count": 11,
   "id": "94ffa799",
   "metadata": {},
   "outputs": [
    {
     "data": {
      "text/plain": [
       "id                  int64\n",
       "editions_id        object\n",
       "title              object\n",
       "author             object\n",
       "author_id          object\n",
       "published_year    float64\n",
       "rating            float64\n",
       "ratings_count       int64\n",
       "reviews_count       int64\n",
       "genres             object\n",
       "synopsis           object\n",
       "prize              object\n",
       "dtype: object"
      ]
     },
     "execution_count": 11,
     "metadata": {},
     "output_type": "execute_result"
    }
   ],
   "source": [
    "# Exibindo o tipo de cada coluna\n",
    "df.dtypes"
   ]
  },
  {
   "cell_type": "markdown",
   "id": "2dcc999b",
   "metadata": {},
   "source": [
    "Todas as colunas possuem os tipos esperados. O ano de publicação deve continuar como do tipo `float`, pois este campo possui valores nulos e estes podem ser representados como `float`, mas não podem como `int`."
   ]
  },
  {
   "cell_type": "markdown",
   "id": "6c43a8d1",
   "metadata": {},
   "source": [
    "## Formatação das colunas"
   ]
  },
  {
   "cell_type": "markdown",
   "id": "366bad78",
   "metadata": {},
   "source": [
    "É aqui onde adicionamos, alteramos e excluímos colunas."
   ]
  },
  {
   "cell_type": "code",
   "execution_count": 12,
   "id": "aa2f87e7",
   "metadata": {},
   "outputs": [],
   "source": [
    "# Transformando os gêneros em uma string onde eles são separados apenas por \", \"\n",
    "df['genres'] = df['genres'].apply(lambda genres: ', '.join(ast.literal_eval(genres)))"
   ]
  },
  {
   "cell_type": "code",
   "execution_count": 13,
   "id": "ce6c007f",
   "metadata": {},
   "outputs": [],
   "source": [
    "# Separando a categoria e o ano da premiação em colunas específicas e excluindo a coluna prize\n",
    "df['prize_category'] = df['prize'].apply(lambda text: re.sub('\\s*\\([0-9]*\\)', '', text))\n",
    "df['prize_year'] = df['prize'].apply(lambda text: int(re.findall('\\([0-9]*\\)', text)[0].strip('()')))\n",
    "df.drop('prize', axis='columns', inplace=True)"
   ]
  },
  {
   "cell_type": "code",
   "execution_count": 14,
   "id": "7e2fd200",
   "metadata": {},
   "outputs": [],
   "source": [
    "# Definindo novas colunas principais\n",
    "main_columns = ['id', 'title', 'author', 'prize_category', 'prize_year']"
   ]
  },
  {
   "cell_type": "markdown",
   "id": "7587ea98",
   "metadata": {},
   "source": [
    "## Correção das categorias de premiação"
   ]
  },
  {
   "cell_type": "code",
   "execution_count": 15,
   "id": "08623ad3",
   "metadata": {},
   "outputs": [
    {
     "data": {
      "text/plain": [
       "prize_category\n",
       "Pulitzer Prize Nominee for Biography                                10\n",
       "Pulitzer Prize Nominee for Biography or Autobiography               52\n",
       "Pulitzer Prize Nominee for Drama                                    13\n",
       "Pulitzer Prize Nominee for Fiction                                  90\n",
       "Pulitzer Prize Nominee for General Nonfiction                       89\n",
       "Pulitzer Prize Nominee for History                                  87\n",
       "Pulitzer Prize Nominee for Memoir or Autobiography                   4\n",
       "Pulitzer Prize Nominee for Poetry                                   79\n",
       "Pulitzer Prize for  Biography or Autobiography                       1\n",
       "Pulitzer Prize for Biography                                         9\n",
       "Pulitzer Prize for Biography Finalist                                1\n",
       "Pulitzer Prize for Biography or Autobiography                      106\n",
       "Pulitzer Prize for Biography or Autobiography (tie)                  4\n",
       "Pulitzer Prize for Drama                                            92\n",
       "Pulitzer Prize for Drama Winner                                      1\n",
       "Pulitzer Prize for Fiction                                          75\n",
       "Pulitzer Prize for General Nonfiction                               64\n",
       "Pulitzer Prize for General Nonfiction and Nominee for Biography      1\n",
       "Pulitzer Prize for History                                         113\n",
       "Pulitzer Prize for Illustrated Reporting                             1\n",
       "Pulitzer Prize for International Reporting                           1\n",
       "Pulitzer Prize for Letters Award                                     1\n",
       "Pulitzer Prize for Memoir or Autobiography                           2\n",
       "Pulitzer Prize for Nonfiction                                        1\n",
       "Pulitzer Prize for Novel                                            26\n",
       "Pulitzer Prize for Poetry                                          109\n",
       "Pulitzer Prize for Special Citation                                  1\n",
       "Pulitzer Prize for Special citation                                  1\n",
       "Name: count, dtype: int64"
      ]
     },
     "execution_count": 15,
     "metadata": {},
     "output_type": "execute_result"
    }
   ],
   "source": [
    "# Exibindo uma contagem de obras por categoria\n",
    "df['prize_category'].value_counts().sort_index()"
   ]
  },
  {
   "cell_type": "markdown",
   "id": "88a779ca",
   "metadata": {},
   "source": [
    "É possível perceber que algumas categorias são repetidas e não estão agrupadas apenas por alguma diferença específica de nomenclatura."
   ]
  },
  {
   "cell_type": "markdown",
   "id": "b8bad493",
   "metadata": {},
   "source": [
    "### Distinção entre vencedores e indicados"
   ]
  },
  {
   "cell_type": "code",
   "execution_count": 16,
   "id": "7dceee02",
   "metadata": {},
   "outputs": [
    {
     "data": {
      "text/plain": [
       "prize_category\n",
       "Pulitzer Prize Nominee for Biography                                10\n",
       "Pulitzer Prize Nominee for Biography or Autobiography               52\n",
       "Pulitzer Prize Nominee for Drama                                    13\n",
       "Pulitzer Prize Nominee for Fiction                                  90\n",
       "Pulitzer Prize Nominee for General Nonfiction                       89\n",
       "Pulitzer Prize Nominee for History                                  87\n",
       "Pulitzer Prize Nominee for Memoir or Autobiography                   4\n",
       "Pulitzer Prize Nominee for Poetry                                   79\n",
       "Pulitzer Prize for  Biography or Autobiography                       1\n",
       "Pulitzer Prize for Biography                                         9\n",
       "Pulitzer Prize for Biography Finalist                                1\n",
       "Pulitzer Prize for Biography or Autobiography                      106\n",
       "Pulitzer Prize for Biography or Autobiography (tie)                  4\n",
       "Pulitzer Prize for Drama                                            92\n",
       "Pulitzer Prize for Drama Winner                                      1\n",
       "Pulitzer Prize for Fiction                                          75\n",
       "Pulitzer Prize for General Nonfiction                               64\n",
       "Pulitzer Prize for General Nonfiction and Nominee for Biography      1\n",
       "Pulitzer Prize for History                                         113\n",
       "Pulitzer Prize for Illustrated Reporting                             1\n",
       "Pulitzer Prize for International Reporting                           1\n",
       "Pulitzer Prize for Letters Award                                     1\n",
       "Pulitzer Prize for Memoir or Autobiography                           2\n",
       "Pulitzer Prize for Nonfiction                                        1\n",
       "Pulitzer Prize for Novel                                            26\n",
       "Pulitzer Prize for Poetry                                          109\n",
       "Pulitzer Prize for Special Citation                                  1\n",
       "Pulitzer Prize for Special citation                                  1\n",
       "Name: count, dtype: int64"
      ]
     },
     "execution_count": 16,
     "metadata": {},
     "output_type": "execute_result"
    }
   ],
   "source": [
    "# Exibindo novamente as categorias encontradas\n",
    "df['prize_category'].value_counts().sort_index()"
   ]
  },
  {
   "cell_type": "code",
   "execution_count": 17,
   "id": "6e6d6d72",
   "metadata": {},
   "outputs": [],
   "source": [
    "# Criando uma coluna para indicar se o livro foi nomeado ou indicado ao prêmio e\n",
    "# configurando todos os livros como vencedores, por enquanto\n",
    "df['prize_status'] = 'winner'"
   ]
  },
  {
   "cell_type": "code",
   "execution_count": 18,
   "id": "93dbc4de",
   "metadata": {},
   "outputs": [],
   "source": [
    "# Alterando o status de um livro na premiação para indicado\n",
    "# caso o \"Nominee\" seja mencionado no nome da categoria nesta base de dados\n",
    "for i, row in df.iterrows():\n",
    "    if 'Nominee' in row['prize_category']:\n",
    "        df.at[i, 'prize_status'] = 'nominee'\n",
    "        df.at[i, 'prize_category'] = row['prize_category'].replace('Nominee ', '')"
   ]
  },
  {
   "cell_type": "markdown",
   "id": "d0db7503",
   "metadata": {},
   "source": [
    "### Normalização de nomes de categorias"
   ]
  },
  {
   "cell_type": "code",
   "execution_count": 19,
   "id": "c42a0804",
   "metadata": {},
   "outputs": [],
   "source": [
    "# Corrigindo alguns nomes de categorias\n",
    "index = df[df['prize_category'] == 'Pulitzer Prize for  Biography or Autobiography'].index[0]\n",
    "df.at[index, 'prize_category'] = 'Pulitzer Prize for Biography or Autobiography'\n",
    "\n",
    "index = df[df['prize_category'] == 'Pulitzer Prize for Drama Winner'].index[0]\n",
    "df.at[index, 'prize_category'] = 'Pulitzer Prize for Drama'\n",
    "\n",
    "index = df[df['prize_category'] == 'Pulitzer Prize for Special citation'].index[0]\n",
    "df.at[index, 'prize_category'] = 'Pulitzer Prize for Special Citation'"
   ]
  },
  {
   "cell_type": "code",
   "execution_count": 20,
   "id": "fa245a6a",
   "metadata": {
    "scrolled": false
   },
   "outputs": [
    {
     "data": {
      "text/html": [
       "<div>\n",
       "<style scoped>\n",
       "    .dataframe tbody tr th:only-of-type {\n",
       "        vertical-align: middle;\n",
       "    }\n",
       "\n",
       "    .dataframe tbody tr th {\n",
       "        vertical-align: top;\n",
       "    }\n",
       "\n",
       "    .dataframe thead th {\n",
       "        text-align: right;\n",
       "    }\n",
       "</style>\n",
       "<table border=\"1\" class=\"dataframe\">\n",
       "  <thead>\n",
       "    <tr style=\"text-align: right;\">\n",
       "      <th></th>\n",
       "      <th>id</th>\n",
       "      <th>title</th>\n",
       "      <th>author</th>\n",
       "      <th>prize_category</th>\n",
       "      <th>prize_year</th>\n",
       "    </tr>\n",
       "  </thead>\n",
       "  <tbody>\n",
       "    <tr>\n",
       "      <th>25</th>\n",
       "      <td>52768414</td>\n",
       "      <td>Stranger in the Shogun's City: A Japanese Woma...</td>\n",
       "      <td>Amy Stanley</td>\n",
       "      <td>Pulitzer Prize for Biography Finalist</td>\n",
       "      <td>2021</td>\n",
       "    </tr>\n",
       "  </tbody>\n",
       "</table>\n",
       "</div>"
      ],
      "text/plain": [
       "          id                                              title       author  \\\n",
       "25  52768414  Stranger in the Shogun's City: A Japanese Woma...  Amy Stanley   \n",
       "\n",
       "                           prize_category  prize_year  \n",
       "25  Pulitzer Prize for Biography Finalist        2021  "
      ]
     },
     "execution_count": 20,
     "metadata": {},
     "output_type": "execute_result"
    }
   ],
   "source": [
    "# Acessando o livro finalista na categoria de Biografia para entender se ele é vencedor ou apenas indicado\n",
    "df[df['prize_category'] == 'Pulitzer Prize for Biography Finalist'][main_columns]"
   ]
  },
  {
   "cell_type": "code",
   "execution_count": 21,
   "id": "31cd4070",
   "metadata": {},
   "outputs": [],
   "source": [
    "# Corrigindo o nome da categoria e o status\n",
    "df.at[25, 'prize_category'] = 'Pulitzer Prize for Biography'\n",
    "df.at[25, 'prize_status'] = 'nominee'"
   ]
  },
  {
   "cell_type": "code",
   "execution_count": 22,
   "id": "9084affc",
   "metadata": {},
   "outputs": [
    {
     "data": {
      "text/html": [
       "<div>\n",
       "<style scoped>\n",
       "    .dataframe tbody tr th:only-of-type {\n",
       "        vertical-align: middle;\n",
       "    }\n",
       "\n",
       "    .dataframe tbody tr th {\n",
       "        vertical-align: top;\n",
       "    }\n",
       "\n",
       "    .dataframe thead th {\n",
       "        text-align: right;\n",
       "    }\n",
       "</style>\n",
       "<table border=\"1\" class=\"dataframe\">\n",
       "  <thead>\n",
       "    <tr style=\"text-align: right;\">\n",
       "      <th></th>\n",
       "      <th>id</th>\n",
       "      <th>title</th>\n",
       "      <th>author</th>\n",
       "      <th>prize_category</th>\n",
       "      <th>prize_year</th>\n",
       "    </tr>\n",
       "  </thead>\n",
       "  <tbody>\n",
       "    <tr>\n",
       "      <th>402</th>\n",
       "      <td>3175653</td>\n",
       "      <td>George Washington (Vol 1): Young Washington</td>\n",
       "      <td>Douglas Southall Freeman</td>\n",
       "      <td>Pulitzer Prize for Biography or Autobiography ...</td>\n",
       "      <td>1958</td>\n",
       "    </tr>\n",
       "    <tr>\n",
       "      <th>495</th>\n",
       "      <td>6601286</td>\n",
       "      <td>Andrew Jackson: Portrait of a President</td>\n",
       "      <td>Marquis James</td>\n",
       "      <td>Pulitzer Prize for Biography or Autobiography ...</td>\n",
       "      <td>1938</td>\n",
       "    </tr>\n",
       "    <tr>\n",
       "      <th>496</th>\n",
       "      <td>7503630</td>\n",
       "      <td>The Life of Andrew Jackson</td>\n",
       "      <td>Marquis James</td>\n",
       "      <td>Pulitzer Prize for Biography or Autobiography ...</td>\n",
       "      <td>1938</td>\n",
       "    </tr>\n",
       "    <tr>\n",
       "      <th>499</th>\n",
       "      <td>2361549</td>\n",
       "      <td>Pedlar's Progress: The Life of Bronson Alcott</td>\n",
       "      <td>Odell Shepard</td>\n",
       "      <td>Pulitzer Prize for Biography or Autobiography ...</td>\n",
       "      <td>1938</td>\n",
       "    </tr>\n",
       "  </tbody>\n",
       "</table>\n",
       "</div>"
      ],
      "text/plain": [
       "          id                                          title  \\\n",
       "402  3175653    George Washington (Vol 1): Young Washington   \n",
       "495  6601286        Andrew Jackson: Portrait of a President   \n",
       "496  7503630                     The Life of Andrew Jackson   \n",
       "499  2361549  Pedlar's Progress: The Life of Bronson Alcott   \n",
       "\n",
       "                       author  \\\n",
       "402  Douglas Southall Freeman   \n",
       "495             Marquis James   \n",
       "496             Marquis James   \n",
       "499             Odell Shepard   \n",
       "\n",
       "                                        prize_category  prize_year  \n",
       "402  Pulitzer Prize for Biography or Autobiography ...        1958  \n",
       "495  Pulitzer Prize for Biography or Autobiography ...        1938  \n",
       "496  Pulitzer Prize for Biography or Autobiography ...        1938  \n",
       "499  Pulitzer Prize for Biography or Autobiography ...        1938  "
      ]
     },
     "execution_count": 22,
     "metadata": {},
     "output_type": "execute_result"
    }
   ],
   "source": [
    "# Acessando livros que indicam que houve um empate para entender se eles são vencedores ou\n",
    "# apenas indicados e de qual categoria\n",
    "df[df['prize_category'] == 'Pulitzer Prize for Biography or Autobiography (tie)'][main_columns]"
   ]
  },
  {
   "cell_type": "code",
   "execution_count": 23,
   "id": "6fa5b171",
   "metadata": {},
   "outputs": [],
   "source": [
    "# Corrigindo o nome da categoria do prêmio\n",
    "df.at[402, 'prize_category'] = 'Pulitzer Prize for Biography'\n",
    "df.at[496, 'prize_category'] = 'Pulitzer Prize for Biography'\n",
    "df.at[499, 'prize_category'] = 'Pulitzer Prize for Biography'\n",
    "\n",
    "# O livro \"Andrew Jackson: Portrait of a President\" é um volume do livro \"The Life of Andrew Jackson\",\n",
    "# sendo que o vencedor do prêmio foi este último\n",
    "df.drop(495, axis='index', inplace=True)"
   ]
  },
  {
   "cell_type": "markdown",
   "id": "c309d552",
   "metadata": {},
   "source": [
    "### Tratamento de múltiplas indicações"
   ]
  },
  {
   "cell_type": "code",
   "execution_count": 24,
   "id": "8702a751",
   "metadata": {},
   "outputs": [
    {
     "data": {
      "text/plain": [
       "prize_category\n",
       "Pulitzer Prize for Biography                                23\n",
       "Pulitzer Prize for Biography or Autobiography              159\n",
       "Pulitzer Prize for Drama                                   106\n",
       "Pulitzer Prize for Fiction                                 165\n",
       "Pulitzer Prize for General Nonfiction                      153\n",
       "Pulitzer Prize for General Nonfiction and for Biography      1\n",
       "Pulitzer Prize for History                                 200\n",
       "Pulitzer Prize for Illustrated Reporting                     1\n",
       "Pulitzer Prize for International Reporting                   1\n",
       "Pulitzer Prize for Letters Award                             1\n",
       "Pulitzer Prize for Memoir or Autobiography                   6\n",
       "Pulitzer Prize for Nonfiction                                1\n",
       "Pulitzer Prize for Novel                                    26\n",
       "Pulitzer Prize for Poetry                                  188\n",
       "Pulitzer Prize for Special Citation                          2\n",
       "Name: count, dtype: int64"
      ]
     },
     "execution_count": 24,
     "metadata": {},
     "output_type": "execute_result"
    }
   ],
   "source": [
    "# Exibindo novamente as categorias encontradas\n",
    "df['prize_category'].value_counts().sort_index()"
   ]
  },
  {
   "cell_type": "code",
   "execution_count": 25,
   "id": "0622f9b6",
   "metadata": {},
   "outputs": [
    {
     "data": {
      "text/html": [
       "<div>\n",
       "<style scoped>\n",
       "    .dataframe tbody tr th:only-of-type {\n",
       "        vertical-align: middle;\n",
       "    }\n",
       "\n",
       "    .dataframe tbody tr th {\n",
       "        vertical-align: top;\n",
       "    }\n",
       "\n",
       "    .dataframe thead th {\n",
       "        text-align: right;\n",
       "    }\n",
       "</style>\n",
       "<table border=\"1\" class=\"dataframe\">\n",
       "  <thead>\n",
       "    <tr style=\"text-align: right;\">\n",
       "      <th></th>\n",
       "      <th>id</th>\n",
       "      <th>title</th>\n",
       "      <th>author</th>\n",
       "      <th>prize_category</th>\n",
       "      <th>prize_year</th>\n",
       "    </tr>\n",
       "  </thead>\n",
       "  <tbody>\n",
       "    <tr>\n",
       "      <th>13</th>\n",
       "      <td>58890953</td>\n",
       "      <td>His Name Is George Floyd: One Man's Life and t...</td>\n",
       "      <td>Robert Samuels</td>\n",
       "      <td>Pulitzer Prize for General Nonfiction and for ...</td>\n",
       "      <td>2023</td>\n",
       "    </tr>\n",
       "  </tbody>\n",
       "</table>\n",
       "</div>"
      ],
      "text/plain": [
       "          id                                              title  \\\n",
       "13  58890953  His Name Is George Floyd: One Man's Life and t...   \n",
       "\n",
       "            author                                     prize_category  \\\n",
       "13  Robert Samuels  Pulitzer Prize for General Nonfiction and for ...   \n",
       "\n",
       "    prize_year  \n",
       "13        2023  "
      ]
     },
     "execution_count": 25,
     "metadata": {},
     "output_type": "execute_result"
    }
   ],
   "source": [
    "# Acessando um livro que a categoria sinaliza duas indicações\n",
    "df[df['prize_category'] == 'Pulitzer Prize for General Nonfiction and for Biography'][main_columns]"
   ]
  },
  {
   "cell_type": "markdown",
   "id": "2242b7c4",
   "metadata": {},
   "source": [
    "A obra \"His Name Is George Floyd: One Man’s Life and the Struggle for Racial Justice\" realmente foi indicada a dois prêmios em 2023. Tendo sido vencedor na categoria *General Nonfiction* e finalista em *Biography*."
   ]
  },
  {
   "cell_type": "code",
   "execution_count": 26,
   "id": "eff51c40",
   "metadata": {},
   "outputs": [
    {
     "data": {
      "text/html": [
       "<div>\n",
       "<style scoped>\n",
       "    .dataframe tbody tr th:only-of-type {\n",
       "        vertical-align: middle;\n",
       "    }\n",
       "\n",
       "    .dataframe tbody tr th {\n",
       "        vertical-align: top;\n",
       "    }\n",
       "\n",
       "    .dataframe thead th {\n",
       "        text-align: right;\n",
       "    }\n",
       "</style>\n",
       "<table border=\"1\" class=\"dataframe\">\n",
       "  <thead>\n",
       "    <tr style=\"text-align: right;\">\n",
       "      <th></th>\n",
       "      <th>id</th>\n",
       "      <th>title</th>\n",
       "      <th>author</th>\n",
       "      <th>prize_category</th>\n",
       "      <th>prize_year</th>\n",
       "    </tr>\n",
       "  </thead>\n",
       "  <tbody>\n",
       "    <tr>\n",
       "      <th>1032</th>\n",
       "      <td>22402749</td>\n",
       "      <td>Bless the Beasts and Children</td>\n",
       "      <td>Glendon Swarthout</td>\n",
       "      <td>Pulitzer Prize for Fiction</td>\n",
       "      <td>1970</td>\n",
       "    </tr>\n",
       "    <tr>\n",
       "      <th>1033</th>\n",
       "      <td>58890953</td>\n",
       "      <td>His Name Is George Floyd: One Man's Life and t...</td>\n",
       "      <td>Robert Samuels</td>\n",
       "      <td>Pulitzer Prize for General Nonfiction and for ...</td>\n",
       "      <td>2023</td>\n",
       "    </tr>\n",
       "  </tbody>\n",
       "</table>\n",
       "</div>"
      ],
      "text/plain": [
       "            id                                              title  \\\n",
       "1032  22402749                      Bless the Beasts and Children   \n",
       "1033  58890953  His Name Is George Floyd: One Man's Life and t...   \n",
       "\n",
       "                 author                                     prize_category  \\\n",
       "1032  Glendon Swarthout                         Pulitzer Prize for Fiction   \n",
       "1033     Robert Samuels  Pulitzer Prize for General Nonfiction and for ...   \n",
       "\n",
       "     prize_year  \n",
       "1032       1970  \n",
       "1033       2023  "
      ]
     },
     "execution_count": 26,
     "metadata": {},
     "output_type": "execute_result"
    }
   ],
   "source": [
    "# Duplicando esta última obra em razão da duplicidade real de indicações\n",
    "row_to_duplicate = pd.DataFrame(df.iloc[13]).transpose()\n",
    "df = pd.concat([df, row_to_duplicate], ignore_index=True)\n",
    "df[main_columns].tail(2)"
   ]
  },
  {
   "cell_type": "code",
   "execution_count": 27,
   "id": "9e20fd7f",
   "metadata": {},
   "outputs": [],
   "source": [
    "# Corrigindo o nome da categoria\n",
    "df.at[13, 'prize_category'] = 'Pulitzer Prize for General Nonfiction'\n",
    "\n",
    "# Corrigindo o nome da categoria e o status\n",
    "df.at[1033, 'prize_category'] = 'Pulitzer Prize for Biography'\n",
    "df.at[1033, 'prize_status'] = 'nominee'"
   ]
  },
  {
   "cell_type": "markdown",
   "id": "ee887916",
   "metadata": {},
   "source": [
    "### Categoria *Biography or Autobiography*"
   ]
  },
  {
   "cell_type": "code",
   "execution_count": 28,
   "id": "a2a58b9d",
   "metadata": {},
   "outputs": [
    {
     "data": {
      "text/plain": [
       "prize_category\n",
       "Pulitzer Prize for Biography                      24\n",
       "Pulitzer Prize for Biography or Autobiography    159\n",
       "Pulitzer Prize for Drama                         106\n",
       "Pulitzer Prize for Fiction                       165\n",
       "Pulitzer Prize for General Nonfiction            154\n",
       "Pulitzer Prize for History                       200\n",
       "Pulitzer Prize for Illustrated Reporting           1\n",
       "Pulitzer Prize for International Reporting         1\n",
       "Pulitzer Prize for Letters Award                   1\n",
       "Pulitzer Prize for Memoir or Autobiography         6\n",
       "Pulitzer Prize for Nonfiction                      1\n",
       "Pulitzer Prize for Novel                          26\n",
       "Pulitzer Prize for Poetry                        188\n",
       "Pulitzer Prize for Special Citation                2\n",
       "Name: count, dtype: int64"
      ]
     },
     "execution_count": 28,
     "metadata": {},
     "output_type": "execute_result"
    }
   ],
   "source": [
    "df['prize_category'].value_counts().sort_index()"
   ]
  },
  {
   "cell_type": "markdown",
   "id": "004e96ae",
   "metadata": {},
   "source": [
    "Existe realmente uma única categoria chamada *Memoir or Autobiography*. No entanto, não há uma categoria intitulada *Biography or Autobiography* ou até mesmo *Autobiography* (Fonte: https://www.pulitzer.org/prize-winners-categories)"
   ]
  },
  {
   "cell_type": "code",
   "execution_count": 29,
   "id": "7ee157ca",
   "metadata": {},
   "outputs": [
    {
     "data": {
      "text/html": [
       "<div>\n",
       "<style scoped>\n",
       "    .dataframe tbody tr th:only-of-type {\n",
       "        vertical-align: middle;\n",
       "    }\n",
       "\n",
       "    .dataframe tbody tr th {\n",
       "        vertical-align: top;\n",
       "    }\n",
       "\n",
       "    .dataframe thead th {\n",
       "        text-align: right;\n",
       "    }\n",
       "</style>\n",
       "<table border=\"1\" class=\"dataframe\">\n",
       "  <thead>\n",
       "    <tr style=\"text-align: right;\">\n",
       "      <th></th>\n",
       "      <th>id</th>\n",
       "      <th>title</th>\n",
       "      <th>author</th>\n",
       "      <th>prize_category</th>\n",
       "      <th>prize_year</th>\n",
       "    </tr>\n",
       "  </thead>\n",
       "  <tbody>\n",
       "    <tr>\n",
       "      <th>93</th>\n",
       "      <td>4839382</td>\n",
       "      <td>The First Tycoon: The Epic Life of Cornelius V...</td>\n",
       "      <td>T.J. Stiles</td>\n",
       "      <td>Pulitzer Prize for Biography or Autobiography</td>\n",
       "      <td>2010</td>\n",
       "    </tr>\n",
       "    <tr>\n",
       "      <th>297</th>\n",
       "      <td>64682</td>\n",
       "      <td>A Prince of Our Disorder: The Life of T.E. Law...</td>\n",
       "      <td>John E. Mack</td>\n",
       "      <td>Pulitzer Prize for Biography or Autobiography</td>\n",
       "      <td>1977</td>\n",
       "    </tr>\n",
       "    <tr>\n",
       "      <th>557</th>\n",
       "      <td>2595812</td>\n",
       "      <td>The American Orchestra and Theodore Thomas</td>\n",
       "      <td>Charles Edward Russell</td>\n",
       "      <td>Pulitzer Prize for Biography or Autobiography</td>\n",
       "      <td>1928</td>\n",
       "    </tr>\n",
       "    <tr>\n",
       "      <th>320</th>\n",
       "      <td>20663740</td>\n",
       "      <td>Eleanor and Franklin</td>\n",
       "      <td>Joseph P. Lash</td>\n",
       "      <td>Pulitzer Prize for Biography or Autobiography</td>\n",
       "      <td>1972</td>\n",
       "    </tr>\n",
       "    <tr>\n",
       "      <th>694</th>\n",
       "      <td>20821221</td>\n",
       "      <td>Stalin: Paradoxes of Power, 1878-1928</td>\n",
       "      <td>Stephen Kotkin</td>\n",
       "      <td>Pulitzer Prize for Biography or Autobiography</td>\n",
       "      <td>2015</td>\n",
       "    </tr>\n",
       "  </tbody>\n",
       "</table>\n",
       "</div>"
      ],
      "text/plain": [
       "           id                                              title  \\\n",
       "93    4839382  The First Tycoon: The Epic Life of Cornelius V...   \n",
       "297     64682  A Prince of Our Disorder: The Life of T.E. Law...   \n",
       "557   2595812         The American Orchestra and Theodore Thomas   \n",
       "320  20663740                               Eleanor and Franklin   \n",
       "694  20821221              Stalin: Paradoxes of Power, 1878-1928   \n",
       "\n",
       "                     author                                 prize_category  \\\n",
       "93              T.J. Stiles  Pulitzer Prize for Biography or Autobiography   \n",
       "297            John E. Mack  Pulitzer Prize for Biography or Autobiography   \n",
       "557  Charles Edward Russell  Pulitzer Prize for Biography or Autobiography   \n",
       "320          Joseph P. Lash  Pulitzer Prize for Biography or Autobiography   \n",
       "694          Stephen Kotkin  Pulitzer Prize for Biography or Autobiography   \n",
       "\n",
       "    prize_year  \n",
       "93        2010  \n",
       "297       1977  \n",
       "557       1928  \n",
       "320       1972  \n",
       "694       2015  "
      ]
     },
     "execution_count": 29,
     "metadata": {},
     "output_type": "execute_result"
    }
   ],
   "source": [
    "# Obtendo uma amostragem dos livros da categoria Biography or Autobiography para verificar a qual\n",
    "# categoria eles realmente pertencem\n",
    "df[df['prize_category'] == 'Pulitzer Prize for Biography or Autobiography'].sample(n=5, random_state=0)[main_columns]"
   ]
  },
  {
   "cell_type": "markdown",
   "id": "b19f01ce",
   "metadata": {},
   "source": [
    "Todos os livros acima pertencem à categoria *Biography*, logo, chego à decisão de definir todos os livros desta categoria como sendo, na verdade, da categoria *Biography*"
   ]
  },
  {
   "cell_type": "code",
   "execution_count": 30,
   "id": "f37662e6",
   "metadata": {},
   "outputs": [],
   "source": [
    "df['prize_category'].replace('Pulitzer Prize for Biography or Autobiography', 'Pulitzer Prize for Biography', inplace=True)"
   ]
  },
  {
   "cell_type": "markdown",
   "id": "81741515",
   "metadata": {},
   "source": [
    "### Categoria *Letters Award*"
   ]
  },
  {
   "cell_type": "code",
   "execution_count": 31,
   "id": "ac571697",
   "metadata": {},
   "outputs": [
    {
     "data": {
      "text/plain": [
       "prize_category\n",
       "Pulitzer Prize for History                    200\n",
       "Pulitzer Prize for Poetry                     188\n",
       "Pulitzer Prize for Biography                  183\n",
       "Pulitzer Prize for Fiction                    165\n",
       "Pulitzer Prize for General Nonfiction         154\n",
       "Pulitzer Prize for Drama                      106\n",
       "Pulitzer Prize for Novel                       26\n",
       "Pulitzer Prize for Memoir or Autobiography      6\n",
       "Pulitzer Prize for Special Citation             2\n",
       "Pulitzer Prize for Illustrated Reporting        1\n",
       "Pulitzer Prize for International Reporting      1\n",
       "Pulitzer Prize for Letters Award                1\n",
       "Pulitzer Prize for Nonfiction                   1\n",
       "Name: count, dtype: int64"
      ]
     },
     "execution_count": 31,
     "metadata": {},
     "output_type": "execute_result"
    }
   ],
   "source": [
    "df['prize_category'].value_counts()"
   ]
  },
  {
   "cell_type": "markdown",
   "id": "4c5cc700",
   "metadata": {},
   "source": [
    "Não há um *Letters Awards*, então vamos verificar a qual categoria esta obra pertence."
   ]
  },
  {
   "cell_type": "code",
   "execution_count": 32,
   "id": "a1054131",
   "metadata": {},
   "outputs": [
    {
     "data": {
      "text/html": [
       "<div>\n",
       "<style scoped>\n",
       "    .dataframe tbody tr th:only-of-type {\n",
       "        vertical-align: middle;\n",
       "    }\n",
       "\n",
       "    .dataframe tbody tr th {\n",
       "        vertical-align: top;\n",
       "    }\n",
       "\n",
       "    .dataframe thead th {\n",
       "        text-align: right;\n",
       "    }\n",
       "</style>\n",
       "<table border=\"1\" class=\"dataframe\">\n",
       "  <thead>\n",
       "    <tr style=\"text-align: right;\">\n",
       "      <th></th>\n",
       "      <th>id</th>\n",
       "      <th>title</th>\n",
       "      <th>author</th>\n",
       "      <th>prize_category</th>\n",
       "      <th>prize_year</th>\n",
       "    </tr>\n",
       "  </thead>\n",
       "  <tbody>\n",
       "    <tr>\n",
       "      <th>200</th>\n",
       "      <td>15196</td>\n",
       "      <td>Maus I: A Survivor's Tale: My Father Bleeds Hi...</td>\n",
       "      <td>Art Spiegelman</td>\n",
       "      <td>Pulitzer Prize for Letters Award</td>\n",
       "      <td>1992</td>\n",
       "    </tr>\n",
       "  </tbody>\n",
       "</table>\n",
       "</div>"
      ],
      "text/plain": [
       "        id                                              title          author  \\\n",
       "200  15196  Maus I: A Survivor's Tale: My Father Bleeds Hi...  Art Spiegelman   \n",
       "\n",
       "                       prize_category prize_year  \n",
       "200  Pulitzer Prize for Letters Award       1992  "
      ]
     },
     "execution_count": 32,
     "metadata": {},
     "output_type": "execute_result"
    }
   ],
   "source": [
    "df[df['prize_category'] == 'Pulitzer Prize for Letters Award'][main_columns]"
   ]
  },
  {
   "cell_type": "markdown",
   "id": "88d1d0c7",
   "metadata": {},
   "source": [
    "Ela pertence à categoria *Special Citation* (fonte: https://www.pulitzer.org/prize-winners-by-year/1992)."
   ]
  },
  {
   "cell_type": "code",
   "execution_count": 33,
   "id": "64e0949c",
   "metadata": {},
   "outputs": [],
   "source": [
    "df.at[200, 'prize_category'] = 'Pulitzer Prize for Special Citation'"
   ]
  },
  {
   "cell_type": "markdown",
   "id": "6925bbc2",
   "metadata": {},
   "source": [
    "### Categoria \"Nonfiction\""
   ]
  },
  {
   "cell_type": "markdown",
   "id": "e3cc9905",
   "metadata": {},
   "source": [
    "A categoria definida apenas como *Nonfiction* também não existe. Vamos verificar a qual categoria este livro pertence."
   ]
  },
  {
   "cell_type": "code",
   "execution_count": 34,
   "id": "5239d57b",
   "metadata": {},
   "outputs": [
    {
     "data": {
      "text/html": [
       "<div>\n",
       "<style scoped>\n",
       "    .dataframe tbody tr th:only-of-type {\n",
       "        vertical-align: middle;\n",
       "    }\n",
       "\n",
       "    .dataframe tbody tr th {\n",
       "        vertical-align: top;\n",
       "    }\n",
       "\n",
       "    .dataframe thead th {\n",
       "        text-align: right;\n",
       "    }\n",
       "</style>\n",
       "<table border=\"1\" class=\"dataframe\">\n",
       "  <thead>\n",
       "    <tr style=\"text-align: right;\">\n",
       "      <th></th>\n",
       "      <th>id</th>\n",
       "      <th>title</th>\n",
       "      <th>author</th>\n",
       "      <th>prize_category</th>\n",
       "      <th>prize_year</th>\n",
       "    </tr>\n",
       "  </thead>\n",
       "  <tbody>\n",
       "    <tr>\n",
       "      <th>342</th>\n",
       "      <td>12474</td>\n",
       "      <td>The Armies of the Night: History as a Novel, T...</td>\n",
       "      <td>Norman Mailer</td>\n",
       "      <td>Pulitzer Prize for Nonfiction</td>\n",
       "      <td>1969</td>\n",
       "    </tr>\n",
       "  </tbody>\n",
       "</table>\n",
       "</div>"
      ],
      "text/plain": [
       "        id                                              title         author  \\\n",
       "342  12474  The Armies of the Night: History as a Novel, T...  Norman Mailer   \n",
       "\n",
       "                    prize_category prize_year  \n",
       "342  Pulitzer Prize for Nonfiction       1969  "
      ]
     },
     "execution_count": 34,
     "metadata": {},
     "output_type": "execute_result"
    }
   ],
   "source": [
    "df[df['prize_category'] == 'Pulitzer Prize for Nonfiction'][main_columns]"
   ]
  },
  {
   "cell_type": "markdown",
   "id": "64d7ddd5",
   "metadata": {},
   "source": [
    "Ele pertence à categoria *General Nonfiction* (fonte: https://www.pulitzer.org/prize-winners-by-category/223)."
   ]
  },
  {
   "cell_type": "code",
   "execution_count": 35,
   "id": "f371dbf7",
   "metadata": {},
   "outputs": [],
   "source": [
    "df.at[342, 'prize_category'] = 'Pulitzer Prize for General Nonfiction'"
   ]
  },
  {
   "cell_type": "markdown",
   "id": "0b81e209",
   "metadata": {},
   "source": [
    "## Verificação dos premiados ao longo dos anos"
   ]
  },
  {
   "cell_type": "code",
   "execution_count": 36,
   "id": "5b28d55c",
   "metadata": {},
   "outputs": [
    {
     "data": {
      "text/plain": [
       "prize_category\n",
       "Pulitzer Prize for History                    200\n",
       "Pulitzer Prize for Poetry                     188\n",
       "Pulitzer Prize for Biography                  183\n",
       "Pulitzer Prize for Fiction                    165\n",
       "Pulitzer Prize for General Nonfiction         155\n",
       "Pulitzer Prize for Drama                      106\n",
       "Pulitzer Prize for Novel                       26\n",
       "Pulitzer Prize for Memoir or Autobiography      6\n",
       "Pulitzer Prize for Special Citation             3\n",
       "Pulitzer Prize for Illustrated Reporting        1\n",
       "Pulitzer Prize for International Reporting      1\n",
       "Name: count, dtype: int64"
      ]
     },
     "execution_count": 36,
     "metadata": {},
     "output_type": "execute_result"
    }
   ],
   "source": [
    "df['prize_category'].value_counts()"
   ]
  },
  {
   "cell_type": "markdown",
   "id": "96d03606",
   "metadata": {},
   "source": [
    "*Illustrated Reporting*, *International Reporting* e *Special Citation* não pertencen à classe *Letters & Drama*, então não será dada atenção a estas categorias."
   ]
  },
  {
   "cell_type": "code",
   "execution_count": 37,
   "id": "c88e76a6",
   "metadata": {},
   "outputs": [
    {
     "name": "stdout",
     "output_type": "stream",
     "text": [
      "Pulitzer Prize for Drama\n",
      "\t min year: 1918 , max_year: 2024\n",
      "Pulitzer Prize for General Nonfiction\n",
      "\t min year: 1962 , max_year: 2024\n",
      "Pulitzer Prize for Poetry\n",
      "\t min year: 1918 , max_year: 2024\n",
      "Pulitzer Prize for Memoir or Autobiography\n",
      "\t min year: 2023 , max_year: 2024\n",
      "Pulitzer Prize for Biography\n",
      "\t min year: 1917 , max_year: 2024\n",
      "Pulitzer Prize for History\n",
      "\t min year: 1917 , max_year: 2024\n",
      "Pulitzer Prize for Fiction\n",
      "\t min year: 1934 , max_year: 2024\n",
      "Pulitzer Prize for Illustrated Reporting\n",
      "\t min year: 2022 , max_year: 2022\n",
      "Pulitzer Prize for Special Citation\n",
      "\t min year: 1992 , max_year: 2007\n",
      "Pulitzer Prize for International Reporting\n",
      "\t min year: 1993 , max_year: 1993\n",
      "Pulitzer Prize for Novel\n",
      "\t min year: 1918 , max_year: 1945\n"
     ]
    }
   ],
   "source": [
    "# Verificando o maior e o menor ano correspondente à premiação de um livro em cada categoria\n",
    "for category in df['prize_category'].unique():\n",
    "    print(category)\n",
    "    min_year = df[(df['prize_category'] == category) & (df['prize_status'] == 'winner')]['prize_year'].min()\n",
    "    max_year = df[(df['prize_category'] == category) & (df['prize_status'] == 'winner')]['prize_year'].max()\n",
    "    print('\\t min year:', min_year, ', max_year:', max_year)"
   ]
  },
  {
   "cell_type": "markdown",
   "id": "3c418f66",
   "metadata": {},
   "source": [
    "Todos os anos limites estão em conformidade com as informações do site The Pulitzer Prizes, mas a categoria *Fiction* começou a ser premiada apenas em 1948."
   ]
  },
  {
   "cell_type": "code",
   "execution_count": 38,
   "id": "d554fb9a",
   "metadata": {},
   "outputs": [
    {
     "data": {
      "text/html": [
       "<div>\n",
       "<style scoped>\n",
       "    .dataframe tbody tr th:only-of-type {\n",
       "        vertical-align: middle;\n",
       "    }\n",
       "\n",
       "    .dataframe tbody tr th {\n",
       "        vertical-align: top;\n",
       "    }\n",
       "\n",
       "    .dataframe thead th {\n",
       "        text-align: right;\n",
       "    }\n",
       "</style>\n",
       "<table border=\"1\" class=\"dataframe\">\n",
       "  <thead>\n",
       "    <tr style=\"text-align: right;\">\n",
       "      <th></th>\n",
       "      <th>id</th>\n",
       "      <th>title</th>\n",
       "      <th>author</th>\n",
       "      <th>prize_category</th>\n",
       "      <th>prize_year</th>\n",
       "    </tr>\n",
       "  </thead>\n",
       "  <tbody>\n",
       "    <tr>\n",
       "      <th>457</th>\n",
       "      <td>5527</td>\n",
       "      <td>All the King’s Men</td>\n",
       "      <td>Robert Penn Warren</td>\n",
       "      <td>Pulitzer Prize for Fiction</td>\n",
       "      <td>1947</td>\n",
       "    </tr>\n",
       "    <tr>\n",
       "      <th>502</th>\n",
       "      <td>40239971</td>\n",
       "      <td>Autant en emporte le vent, tome 3</td>\n",
       "      <td>Margaret Mitchell</td>\n",
       "      <td>Pulitzer Prize for Fiction</td>\n",
       "      <td>1937</td>\n",
       "    </tr>\n",
       "    <tr>\n",
       "      <th>524</th>\n",
       "      <td>267478</td>\n",
       "      <td>Lamb in His Bosom</td>\n",
       "      <td>Caroline   Miller</td>\n",
       "      <td>Pulitzer Prize for Fiction</td>\n",
       "      <td>1934</td>\n",
       "    </tr>\n",
       "  </tbody>\n",
       "</table>\n",
       "</div>"
      ],
      "text/plain": [
       "           id                              title              author  \\\n",
       "457      5527                 All the King’s Men  Robert Penn Warren   \n",
       "502  40239971  Autant en emporte le vent, tome 3   Margaret Mitchell   \n",
       "524    267478                  Lamb in His Bosom   Caroline   Miller   \n",
       "\n",
       "                 prize_category prize_year  \n",
       "457  Pulitzer Prize for Fiction       1947  \n",
       "502  Pulitzer Prize for Fiction       1937  \n",
       "524  Pulitzer Prize for Fiction       1934  "
      ]
     },
     "execution_count": 38,
     "metadata": {},
     "output_type": "execute_result"
    }
   ],
   "source": [
    "# Verificando quais livros constam como premiados em Fiction antes de 1948\n",
    "df[(df['prize_year'] < 1948) & (df['prize_category'] == 'Pulitzer Prize for Fiction')][main_columns]"
   ]
  },
  {
   "cell_type": "markdown",
   "id": "fc8c520f",
   "metadata": {},
   "source": [
    "Todos estes livros, na verdade, venceram na categoria *Novel*."
   ]
  },
  {
   "cell_type": "code",
   "execution_count": 39,
   "id": "2edc3f10",
   "metadata": {},
   "outputs": [],
   "source": [
    "df.at[457, 'prize_category'] = 'Pulitzer Prize for Novel'\n",
    "df.at[502, 'prize_category'] = 'Pulitzer Prize for Novel'\n",
    "df.at[525, 'prize_category'] = 'Pulitzer Prize for Novel'"
   ]
  },
  {
   "cell_type": "code",
   "execution_count": 40,
   "id": "1d21dff3",
   "metadata": {},
   "outputs": [
    {
     "name": "stdout",
     "output_type": "stream",
     "text": [
      "Pulitzer Prize for Drama\n",
      "\t1919, 1933, 1942, 1944, 1947, 1951, 1958, 1963, 1964, 1966, 1968, 1972, 1974, 1986, 1997, 2006, \n",
      "Pulitzer Prize for General Nonfiction\n",
      "\t\n",
      "Pulitzer Prize for Poetry\n",
      "\t1920, 1921, \n",
      "Pulitzer Prize for Memoir or Autobiography\n",
      "\t\n",
      "Pulitzer Prize for Biography\n",
      "\t1962, \n",
      "Pulitzer Prize for History\n",
      "\t1919, 1930, 1984, \n",
      "Pulitzer Prize for Fiction\n",
      "\t1935, 1936, 1937, 1938, 1939, 1940, 1941, 1942, 1943, 1944, 1945, 1946, 1947, 1954, 1957, 1964, 1971, 1974, 1977, \n",
      "Pulitzer Prize for Illustrated Reporting\n",
      "\t\n",
      "Pulitzer Prize for Special Citation\n",
      "\t1993, 1994, 1995, 1996, 1997, 1998, 1999, 2000, 2001, 2002, 2003, 2004, 2005, 2006, \n",
      "Pulitzer Prize for International Reporting\n",
      "\t\n",
      "Pulitzer Prize for Novel\n",
      "\t1920, 1934, 1941, 1946, \n"
     ]
    }
   ],
   "source": [
    "# Verificando anos que não possuem vencedores em cada categoria\n",
    "for category in df['prize_category'].unique():\n",
    "    print(category)\n",
    "    min_year = df[(df['prize_category'] == category) & (df['prize_status'] == 'winner')]['prize_year'].min()\n",
    "    max_year = df[(df['prize_category'] == category) & (df['prize_status'] == 'winner')]['prize_year'].max()\n",
    "    print('\\t', end='')\n",
    "    for year in range(min_year+1, max_year):\n",
    "        if not year in df[df['prize_category'] == category]['prize_year'].to_list():\n",
    "            print(year, end=', ')\n",
    "    print()"
   ]
  },
  {
   "cell_type": "markdown",
   "id": "6efe3ff0",
   "metadata": {},
   "source": [
    "Das categorias que não possuem vencedores em determinado ano, foi indetificado que as categorias e anos abaixo possuem os seguintes premiados:\n",
    "\n",
    "- Drama 1958 - Look Homeward, Angel, by Ketti Frings (fonte: https://www.pulitzer.org/prize-winners-by-category/218)\n",
    "\n",
    "- History 1930 - The Founding of the American Republic, Volume II: The War of Independence: American Phase, by Claude H. Van Tyne (oughton) (fonte: https://www.pulitzer.org/prize-winners-by-category/220)"
   ]
  },
  {
   "cell_type": "code",
   "execution_count": 41,
   "id": "d6df34dd",
   "metadata": {},
   "outputs": [
    {
     "data": {
      "text/html": [
       "<div>\n",
       "<style scoped>\n",
       "    .dataframe tbody tr th:only-of-type {\n",
       "        vertical-align: middle;\n",
       "    }\n",
       "\n",
       "    .dataframe tbody tr th {\n",
       "        vertical-align: top;\n",
       "    }\n",
       "\n",
       "    .dataframe thead th {\n",
       "        text-align: right;\n",
       "    }\n",
       "</style>\n",
       "<table border=\"1\" class=\"dataframe\">\n",
       "  <thead>\n",
       "    <tr style=\"text-align: right;\">\n",
       "      <th></th>\n",
       "      <th>id</th>\n",
       "      <th>title</th>\n",
       "      <th>author</th>\n",
       "      <th>prize_category</th>\n",
       "      <th>prize_year</th>\n",
       "    </tr>\n",
       "  </thead>\n",
       "  <tbody>\n",
       "    <tr>\n",
       "      <th>230</th>\n",
       "      <td>824933</td>\n",
       "      <td>Look Homeward: A Life of Thomas Wolfe</td>\n",
       "      <td>David Herbert Donald</td>\n",
       "      <td>Pulitzer Prize for Biography</td>\n",
       "      <td>1988</td>\n",
       "    </tr>\n",
       "  </tbody>\n",
       "</table>\n",
       "</div>"
      ],
      "text/plain": [
       "         id                                  title                author  \\\n",
       "230  824933  Look Homeward: A Life of Thomas Wolfe  David Herbert Donald   \n",
       "\n",
       "                   prize_category prize_year  \n",
       "230  Pulitzer Prize for Biography       1988  "
      ]
     },
     "execution_count": 41,
     "metadata": {},
     "output_type": "execute_result"
    }
   ],
   "source": [
    "# Verificando se algum dos livros mencionados acima constam em algum registro na base de dados\n",
    "df[df['title'].str.contains('Homeward') | df['title'].str.contains('The War of Independence')][main_columns]"
   ]
  },
  {
   "cell_type": "code",
   "execution_count": 42,
   "id": "9190f8e0",
   "metadata": {},
   "outputs": [],
   "source": [
    "# Obtendo as informações dos livros que ficaram ausentes\n",
    "new_book1 = pd.DataFrame({\n",
    "    'id': '240701',\n",
    "    'editions_id': '233178',\n",
    "    'title': 'Look Homeward, Angel: A Comedy-Drama in Three Acts',\n",
    "    'author': 'Ketti Frings',\n",
    "    'author_id': '140861.Ketti_Frings',\n",
    "    'published_year': 1986,\n",
    "    'rating': 3.73,\n",
    "    'ratings_count': 83,\n",
    "    'reviews_count': 10,\n",
    "    'genres': \"Plays, Drama, Theatre, Fiction\",\n",
    "    'synopsis': '''Comedy-Drama. Ketti Frings, from the novel by Thomas Wolfe.\n",
    "        10 m., 8 f. 2 exts. w. inset. An authentic American classic, this powerful\n",
    "        and vital play captures the sardonic humor and the grief, both private and\n",
    "        universal, of Wolfe’s novel about a youth coming of age. Concentrating on\n",
    "        the last third of Wolfe’s story, the play vividly portrays Eugene Gant,\n",
    "        his mother who is obsessed by her material holdings and who maintains barriers\n",
    "        against the love of her family, the father—a stonecutter imprisoned by his failures,\n",
    "        and the brother who never breaks away. Winner of the Pulitzer Prize and the New York Critics’\n",
    "        award as best play of the season. Liist price $6.25. (Royalty, $50-$40 from Samuel French)\n",
    "        Slightly Restricted.''',\n",
    "    'prize_category': 'Pulitzer Prize for Drama',\n",
    "    'prize_year': 1958,\n",
    "    'prize_status': 'winner'\n",
    "}, index=[0])\n",
    "\n",
    "new_book2 = pd.DataFrame({\n",
    "    'id': '2643433',\n",
    "    'editions_id': '2668169',\n",
    "    'title': 'The War of Independence',\n",
    "    'author': 'Claude H. Van Tyne',\n",
    "    'author_id': '2502047.Claude_H_Van_Tyne',\n",
    "    'published_year': 2001,\n",
    "    'rating': 3.00,\n",
    "    'ratings_count': 1,\n",
    "    'reviews_count': 1,\n",
    "    'genres': 'History',\n",
    "    'synopsis': 'Winner of the 1930 Pulitzer Prize in History.',\n",
    "    'prize_category': 'Pulitzer Prize for History',\n",
    "    'prize_year': 1930,\n",
    "    'prize_status': 'winner'\n",
    "}, index=[0])"
   ]
  },
  {
   "cell_type": "code",
   "execution_count": 43,
   "id": "b6caa6a0",
   "metadata": {},
   "outputs": [],
   "source": [
    "# Adicionando as novas obras à tabela\n",
    "df = pd.concat([df, new_book1, new_book2], axis='index')"
   ]
  },
  {
   "cell_type": "markdown",
   "id": "55df587e",
   "metadata": {},
   "source": [
    "## Identificação e remoção de registros duplicados"
   ]
  },
  {
   "cell_type": "code",
   "execution_count": 44,
   "id": "a1ed1e8c",
   "metadata": {},
   "outputs": [
    {
     "data": {
      "text/html": [
       "<div>\n",
       "<style scoped>\n",
       "    .dataframe tbody tr th:only-of-type {\n",
       "        vertical-align: middle;\n",
       "    }\n",
       "\n",
       "    .dataframe tbody tr th {\n",
       "        vertical-align: top;\n",
       "    }\n",
       "\n",
       "    .dataframe thead th {\n",
       "        text-align: right;\n",
       "    }\n",
       "</style>\n",
       "<table border=\"1\" class=\"dataframe\">\n",
       "  <thead>\n",
       "    <tr style=\"text-align: right;\">\n",
       "      <th></th>\n",
       "      <th>id</th>\n",
       "      <th>title</th>\n",
       "      <th>author</th>\n",
       "      <th>prize_category</th>\n",
       "      <th>prize_year</th>\n",
       "      <th>ratings_count</th>\n",
       "    </tr>\n",
       "  </thead>\n",
       "  <tbody>\n",
       "    <tr>\n",
       "      <th>591</th>\n",
       "      <td>1641264</td>\n",
       "      <td>Miss Lulu Bett</td>\n",
       "      <td>Zona Gale</td>\n",
       "      <td>Pulitzer Prize for Drama</td>\n",
       "      <td>1921</td>\n",
       "      <td>164</td>\n",
       "    </tr>\n",
       "    <tr>\n",
       "      <th>590</th>\n",
       "      <td>7422491</td>\n",
       "      <td>Miss Lulu Bett: A Play</td>\n",
       "      <td>Zona Gale</td>\n",
       "      <td>Pulitzer Prize for Drama</td>\n",
       "      <td>1921</td>\n",
       "      <td>27</td>\n",
       "    </tr>\n",
       "    <tr>\n",
       "      <th>582</th>\n",
       "      <td>2431930</td>\n",
       "      <td>The Supreme Court in United States History, Vo...</td>\n",
       "      <td>Charles Warren</td>\n",
       "      <td>Pulitzer Prize for History</td>\n",
       "      <td>1923</td>\n",
       "      <td>6</td>\n",
       "    </tr>\n",
       "    <tr>\n",
       "      <th>579</th>\n",
       "      <td>3792295</td>\n",
       "      <td>The Supreme Court in United States History</td>\n",
       "      <td>Charles Warren</td>\n",
       "      <td>Pulitzer Prize for History</td>\n",
       "      <td>1923</td>\n",
       "      <td>2</td>\n",
       "    </tr>\n",
       "    <tr>\n",
       "      <th>553</th>\n",
       "      <td>2066942</td>\n",
       "      <td>Main Currents in American Thought, Vol. 3: The...</td>\n",
       "      <td>Vernon Louis Parrington</td>\n",
       "      <td>Pulitzer Prize for History</td>\n",
       "      <td>1928</td>\n",
       "      <td>20</td>\n",
       "    </tr>\n",
       "    <tr>\n",
       "      <th>555</th>\n",
       "      <td>1790242</td>\n",
       "      <td>Main Currents in American Thought, Vol. 1: The...</td>\n",
       "      <td>Vernon Louis Parrington</td>\n",
       "      <td>Pulitzer Prize for History</td>\n",
       "      <td>1928</td>\n",
       "      <td>41</td>\n",
       "    </tr>\n",
       "    <tr>\n",
       "      <th>552</th>\n",
       "      <td>24631399</td>\n",
       "      <td>Main Currents in American Thought</td>\n",
       "      <td>Vernon Louis Parrington</td>\n",
       "      <td>Pulitzer Prize for History</td>\n",
       "      <td>1928</td>\n",
       "      <td>3</td>\n",
       "    </tr>\n",
       "    <tr>\n",
       "      <th>554</th>\n",
       "      <td>143304</td>\n",
       "      <td>Main Currents in American Thought, Vol. 2: The...</td>\n",
       "      <td>Vernon Louis Parrington</td>\n",
       "      <td>Pulitzer Prize for History</td>\n",
       "      <td>1928</td>\n",
       "      <td>30</td>\n",
       "    </tr>\n",
       "    <tr>\n",
       "      <th>547</th>\n",
       "      <td>4222465</td>\n",
       "      <td>The Organization and Administration of the Uni...</td>\n",
       "      <td>Fred Albert Shannon</td>\n",
       "      <td>Pulitzer Prize for History</td>\n",
       "      <td>1929</td>\n",
       "      <td>2</td>\n",
       "    </tr>\n",
       "    <tr>\n",
       "      <th>545</th>\n",
       "      <td>10065723</td>\n",
       "      <td>The Organization and Administration of the Uni...</td>\n",
       "      <td>Fred Albert Shannon</td>\n",
       "      <td>Pulitzer Prize for History</td>\n",
       "      <td>1929</td>\n",
       "      <td>2</td>\n",
       "    </tr>\n",
       "    <tr>\n",
       "      <th>530</th>\n",
       "      <td>7042865</td>\n",
       "      <td>My Experiences in the World War, Vol. 2</td>\n",
       "      <td>John Joseph Pershing</td>\n",
       "      <td>Pulitzer Prize for History</td>\n",
       "      <td>1932</td>\n",
       "      <td>8</td>\n",
       "    </tr>\n",
       "    <tr>\n",
       "      <th>531</th>\n",
       "      <td>39908475</td>\n",
       "      <td>My Experiences in the World War</td>\n",
       "      <td>John Joseph Pershing</td>\n",
       "      <td>Pulitzer Prize for History</td>\n",
       "      <td>1932</td>\n",
       "      <td>121</td>\n",
       "    </tr>\n",
       "    <tr>\n",
       "      <th>516</th>\n",
       "      <td>2151051</td>\n",
       "      <td>R. E. Lee: A Biography  Volume II</td>\n",
       "      <td>Douglas Southall Freeman</td>\n",
       "      <td>Pulitzer Prize for Biography</td>\n",
       "      <td>1935</td>\n",
       "      <td>112</td>\n",
       "    </tr>\n",
       "    <tr>\n",
       "      <th>515</th>\n",
       "      <td>2151059</td>\n",
       "      <td>R. E. Lee:  A Biography Volume III</td>\n",
       "      <td>Douglas Southall Freeman</td>\n",
       "      <td>Pulitzer Prize for Biography</td>\n",
       "      <td>1935</td>\n",
       "      <td>108</td>\n",
       "    </tr>\n",
       "    <tr>\n",
       "      <th>514</th>\n",
       "      <td>2151060</td>\n",
       "      <td>R. E. Lee:  A Biography Volume IV</td>\n",
       "      <td>Douglas Southall Freeman</td>\n",
       "      <td>Pulitzer Prize for Biography</td>\n",
       "      <td>1935</td>\n",
       "      <td>96</td>\n",
       "    </tr>\n",
       "    <tr>\n",
       "      <th>518</th>\n",
       "      <td>1336275</td>\n",
       "      <td>R. E. Lee:  A Biography:  Volume I</td>\n",
       "      <td>Douglas Southall Freeman</td>\n",
       "      <td>Pulitzer Prize for Biography</td>\n",
       "      <td>1935</td>\n",
       "      <td>192</td>\n",
       "    </tr>\n",
       "    <tr>\n",
       "      <th>506</th>\n",
       "      <td>18405</td>\n",
       "      <td>Gone with the Wind</td>\n",
       "      <td>Margaret Mitchell</td>\n",
       "      <td>Pulitzer Prize for Novel</td>\n",
       "      <td>1937</td>\n",
       "      <td>1212669</td>\n",
       "    </tr>\n",
       "    <tr>\n",
       "      <th>502</th>\n",
       "      <td>40239971</td>\n",
       "      <td>Autant en emporte le vent, tome 3</td>\n",
       "      <td>Margaret Mitchell</td>\n",
       "      <td>Pulitzer Prize for Novel</td>\n",
       "      <td>1937</td>\n",
       "      <td>663</td>\n",
       "    </tr>\n",
       "    <tr>\n",
       "      <th>471</th>\n",
       "      <td>39078166</td>\n",
       "      <td>Dragon's Teeth</td>\n",
       "      <td>Upton Sinclair</td>\n",
       "      <td>Pulitzer Prize for Novel</td>\n",
       "      <td>1943</td>\n",
       "      <td>960</td>\n",
       "    </tr>\n",
       "    <tr>\n",
       "      <th>476</th>\n",
       "      <td>54844</td>\n",
       "      <td>Dragon's Teeth I</td>\n",
       "      <td>Upton Sinclair</td>\n",
       "      <td>Pulitzer Prize for Novel</td>\n",
       "      <td>1943</td>\n",
       "      <td>509</td>\n",
       "    </tr>\n",
       "    <tr>\n",
       "      <th>431</th>\n",
       "      <td>179631</td>\n",
       "      <td>Complete Poems</td>\n",
       "      <td>Marianne Moore</td>\n",
       "      <td>Pulitzer Prize for Poetry</td>\n",
       "      <td>1952</td>\n",
       "      <td>3116</td>\n",
       "    </tr>\n",
       "    <tr>\n",
       "      <th>428</th>\n",
       "      <td>44298420</td>\n",
       "      <td>Charles Evans Hughes : in Two Volumes, Volume One</td>\n",
       "      <td>Merlo J. Pusey</td>\n",
       "      <td>Pulitzer Prize for Biography</td>\n",
       "      <td>1952</td>\n",
       "      <td>5</td>\n",
       "    </tr>\n",
       "    <tr>\n",
       "      <th>432</th>\n",
       "      <td>2591703</td>\n",
       "      <td>Charles Evans Hughes</td>\n",
       "      <td>Merlo J. Pusey</td>\n",
       "      <td>Pulitzer Prize for Biography</td>\n",
       "      <td>1952</td>\n",
       "      <td>15</td>\n",
       "    </tr>\n",
       "    <tr>\n",
       "      <th>429</th>\n",
       "      <td>6500113</td>\n",
       "      <td>Collected Poems</td>\n",
       "      <td>Marianne Moore</td>\n",
       "      <td>Pulitzer Prize for Poetry</td>\n",
       "      <td>1952</td>\n",
       "      <td>44</td>\n",
       "    </tr>\n",
       "    <tr>\n",
       "      <th>403</th>\n",
       "      <td>178427</td>\n",
       "      <td>Washington</td>\n",
       "      <td>Douglas Southall Freeman</td>\n",
       "      <td>Pulitzer Prize for Biography</td>\n",
       "      <td>1958</td>\n",
       "      <td>346</td>\n",
       "    </tr>\n",
       "    <tr>\n",
       "      <th>402</th>\n",
       "      <td>3175653</td>\n",
       "      <td>George Washington (Vol 1): Young Washington</td>\n",
       "      <td>Douglas Southall Freeman</td>\n",
       "      <td>Pulitzer Prize for Biography</td>\n",
       "      <td>1958</td>\n",
       "      <td>54</td>\n",
       "    </tr>\n",
       "    <tr>\n",
       "      <th>399</th>\n",
       "      <td>8519824</td>\n",
       "      <td>George Washington (Vol 3): Planter and Patriot</td>\n",
       "      <td>Douglas Southall Freeman</td>\n",
       "      <td>Pulitzer Prize for Biography</td>\n",
       "      <td>1958</td>\n",
       "      <td>36</td>\n",
       "    </tr>\n",
       "    <tr>\n",
       "      <th>398</th>\n",
       "      <td>178428</td>\n",
       "      <td>George Washington: A Biography : Victory With ...</td>\n",
       "      <td>Douglas Southall Freeman</td>\n",
       "      <td>Pulitzer Prize for Biography</td>\n",
       "      <td>1958</td>\n",
       "      <td>30</td>\n",
       "    </tr>\n",
       "    <tr>\n",
       "      <th>397</th>\n",
       "      <td>7770744</td>\n",
       "      <td>George Washington (Vol 6): Patriot and Preside...</td>\n",
       "      <td>Douglas Southall Freeman</td>\n",
       "      <td>Pulitzer Prize for Biography</td>\n",
       "      <td>1958</td>\n",
       "      <td>28</td>\n",
       "    </tr>\n",
       "    <tr>\n",
       "      <th>396</th>\n",
       "      <td>8519672</td>\n",
       "      <td>George Washington (Vol 4): Leader of the Revol...</td>\n",
       "      <td>Douglas Southall Freeman</td>\n",
       "      <td>Pulitzer Prize for Biography</td>\n",
       "      <td>1958</td>\n",
       "      <td>31</td>\n",
       "    </tr>\n",
       "    <tr>\n",
       "      <th>395</th>\n",
       "      <td>3175652</td>\n",
       "      <td>George Washington (Vol 2): Young Washington</td>\n",
       "      <td>Douglas Southall Freeman</td>\n",
       "      <td>Pulitzer Prize for Biography</td>\n",
       "      <td>1958</td>\n",
       "      <td>42</td>\n",
       "    </tr>\n",
       "    <tr>\n",
       "      <th>371</th>\n",
       "      <td>1983398</td>\n",
       "      <td>Washington: A History of the Capital (Princeto...</td>\n",
       "      <td>Constance McLaughlin Green</td>\n",
       "      <td>Pulitzer Prize for History</td>\n",
       "      <td>1963</td>\n",
       "      <td>5</td>\n",
       "    </tr>\n",
       "    <tr>\n",
       "      <th>370</th>\n",
       "      <td>10471115</td>\n",
       "      <td>Washington, Village and Capital, 1800-1878</td>\n",
       "      <td>Constance McLaughlin Green</td>\n",
       "      <td>Pulitzer Prize for History</td>\n",
       "      <td>1963</td>\n",
       "      <td>7</td>\n",
       "    </tr>\n",
       "    <tr>\n",
       "      <th>1027</th>\n",
       "      <td>344342</td>\n",
       "      <td>Selected Poems</td>\n",
       "      <td>Richard Hugo</td>\n",
       "      <td>Pulitzer Prize for Poetry</td>\n",
       "      <td>1980</td>\n",
       "      <td>127</td>\n",
       "    </tr>\n",
       "    <tr>\n",
       "      <th>280</th>\n",
       "      <td>12468</td>\n",
       "      <td>The Executioner's Song</td>\n",
       "      <td>Norman Mailer</td>\n",
       "      <td>Pulitzer Prize for Fiction</td>\n",
       "      <td>1980</td>\n",
       "      <td>21849</td>\n",
       "    </tr>\n",
       "    <tr>\n",
       "      <th>275</th>\n",
       "      <td>13153823</td>\n",
       "      <td>Pieśń kata</td>\n",
       "      <td>Norman Mailer</td>\n",
       "      <td>Pulitzer Prize for Fiction</td>\n",
       "      <td>1980</td>\n",
       "      <td>25</td>\n",
       "    </tr>\n",
       "    <tr>\n",
       "      <th>1026</th>\n",
       "      <td>1512686</td>\n",
       "      <td>The Right Madness on Skye: Poems</td>\n",
       "      <td>Richard Hugo</td>\n",
       "      <td>Pulitzer Prize for Poetry</td>\n",
       "      <td>1980</td>\n",
       "      <td>54</td>\n",
       "    </tr>\n",
       "    <tr>\n",
       "      <th>253</th>\n",
       "      <td>178959</td>\n",
       "      <td>American Primitive</td>\n",
       "      <td>Mary Oliver</td>\n",
       "      <td>Pulitzer Prize for Poetry</td>\n",
       "      <td>1984</td>\n",
       "      <td>6075</td>\n",
       "    </tr>\n",
       "    <tr>\n",
       "      <th>251</th>\n",
       "      <td>178965</td>\n",
       "      <td>House of Light</td>\n",
       "      <td>Mary Oliver</td>\n",
       "      <td>Pulitzer Prize for Poetry</td>\n",
       "      <td>1984</td>\n",
       "      <td>3852</td>\n",
       "    </tr>\n",
       "    <tr>\n",
       "      <th>200</th>\n",
       "      <td>15196</td>\n",
       "      <td>Maus I: A Survivor's Tale: My Father Bleeds Hi...</td>\n",
       "      <td>Art Spiegelman</td>\n",
       "      <td>Pulitzer Prize for Special Citation</td>\n",
       "      <td>1992</td>\n",
       "      <td>338001</td>\n",
       "    </tr>\n",
       "    <tr>\n",
       "      <th>199</th>\n",
       "      <td>210622582</td>\n",
       "      <td>Маус. Сповідь уцілілого</td>\n",
       "      <td>Art Spiegelman</td>\n",
       "      <td>Pulitzer Prize for Special Citation</td>\n",
       "      <td>1992</td>\n",
       "      <td>223599</td>\n",
       "    </tr>\n",
       "  </tbody>\n",
       "</table>\n",
       "</div>"
      ],
      "text/plain": [
       "             id                                              title  \\\n",
       "591     1641264                                     Miss Lulu Bett   \n",
       "590     7422491                             Miss Lulu Bett: A Play   \n",
       "582     2431930  The Supreme Court in United States History, Vo...   \n",
       "579     3792295         The Supreme Court in United States History   \n",
       "553     2066942  Main Currents in American Thought, Vol. 3: The...   \n",
       "555     1790242  Main Currents in American Thought, Vol. 1: The...   \n",
       "552    24631399                  Main Currents in American Thought   \n",
       "554      143304  Main Currents in American Thought, Vol. 2: The...   \n",
       "547     4222465  The Organization and Administration of the Uni...   \n",
       "545    10065723  The Organization and Administration of the Uni...   \n",
       "530     7042865            My Experiences in the World War, Vol. 2   \n",
       "531    39908475                    My Experiences in the World War   \n",
       "516     2151051                  R. E. Lee: A Biography  Volume II   \n",
       "515     2151059                 R. E. Lee:  A Biography Volume III   \n",
       "514     2151060                  R. E. Lee:  A Biography Volume IV   \n",
       "518     1336275                 R. E. Lee:  A Biography:  Volume I   \n",
       "506       18405                                 Gone with the Wind   \n",
       "502    40239971                  Autant en emporte le vent, tome 3   \n",
       "471    39078166                                     Dragon's Teeth   \n",
       "476       54844                                   Dragon's Teeth I   \n",
       "431      179631                                     Complete Poems   \n",
       "428    44298420  Charles Evans Hughes : in Two Volumes, Volume One   \n",
       "432     2591703                               Charles Evans Hughes   \n",
       "429     6500113                                    Collected Poems   \n",
       "403      178427                                         Washington   \n",
       "402     3175653        George Washington (Vol 1): Young Washington   \n",
       "399     8519824     George Washington (Vol 3): Planter and Patriot   \n",
       "398      178428  George Washington: A Biography : Victory With ...   \n",
       "397     7770744  George Washington (Vol 6): Patriot and Preside...   \n",
       "396     8519672  George Washington (Vol 4): Leader of the Revol...   \n",
       "395     3175652        George Washington (Vol 2): Young Washington   \n",
       "371     1983398  Washington: A History of the Capital (Princeto...   \n",
       "370    10471115         Washington, Village and Capital, 1800-1878   \n",
       "1027     344342                                     Selected Poems   \n",
       "280       12468                             The Executioner's Song   \n",
       "275    13153823                                         Pieśń kata   \n",
       "1026    1512686                   The Right Madness on Skye: Poems   \n",
       "253      178959                                 American Primitive   \n",
       "251      178965                                     House of Light   \n",
       "200       15196  Maus I: A Survivor's Tale: My Father Bleeds Hi...   \n",
       "199   210622582                            Маус. Сповідь уцілілого   \n",
       "\n",
       "                          author                       prize_category  \\\n",
       "591                    Zona Gale             Pulitzer Prize for Drama   \n",
       "590                    Zona Gale             Pulitzer Prize for Drama   \n",
       "582               Charles Warren           Pulitzer Prize for History   \n",
       "579               Charles Warren           Pulitzer Prize for History   \n",
       "553      Vernon Louis Parrington           Pulitzer Prize for History   \n",
       "555      Vernon Louis Parrington           Pulitzer Prize for History   \n",
       "552      Vernon Louis Parrington           Pulitzer Prize for History   \n",
       "554      Vernon Louis Parrington           Pulitzer Prize for History   \n",
       "547          Fred Albert Shannon           Pulitzer Prize for History   \n",
       "545          Fred Albert Shannon           Pulitzer Prize for History   \n",
       "530         John Joseph Pershing           Pulitzer Prize for History   \n",
       "531         John Joseph Pershing           Pulitzer Prize for History   \n",
       "516     Douglas Southall Freeman         Pulitzer Prize for Biography   \n",
       "515     Douglas Southall Freeman         Pulitzer Prize for Biography   \n",
       "514     Douglas Southall Freeman         Pulitzer Prize for Biography   \n",
       "518     Douglas Southall Freeman         Pulitzer Prize for Biography   \n",
       "506            Margaret Mitchell             Pulitzer Prize for Novel   \n",
       "502            Margaret Mitchell             Pulitzer Prize for Novel   \n",
       "471               Upton Sinclair             Pulitzer Prize for Novel   \n",
       "476               Upton Sinclair             Pulitzer Prize for Novel   \n",
       "431               Marianne Moore            Pulitzer Prize for Poetry   \n",
       "428               Merlo J. Pusey         Pulitzer Prize for Biography   \n",
       "432               Merlo J. Pusey         Pulitzer Prize for Biography   \n",
       "429               Marianne Moore            Pulitzer Prize for Poetry   \n",
       "403     Douglas Southall Freeman         Pulitzer Prize for Biography   \n",
       "402     Douglas Southall Freeman         Pulitzer Prize for Biography   \n",
       "399     Douglas Southall Freeman         Pulitzer Prize for Biography   \n",
       "398     Douglas Southall Freeman         Pulitzer Prize for Biography   \n",
       "397     Douglas Southall Freeman         Pulitzer Prize for Biography   \n",
       "396     Douglas Southall Freeman         Pulitzer Prize for Biography   \n",
       "395     Douglas Southall Freeman         Pulitzer Prize for Biography   \n",
       "371   Constance McLaughlin Green           Pulitzer Prize for History   \n",
       "370   Constance McLaughlin Green           Pulitzer Prize for History   \n",
       "1027                Richard Hugo            Pulitzer Prize for Poetry   \n",
       "280                Norman Mailer           Pulitzer Prize for Fiction   \n",
       "275                Norman Mailer           Pulitzer Prize for Fiction   \n",
       "1026                Richard Hugo            Pulitzer Prize for Poetry   \n",
       "253                  Mary Oliver            Pulitzer Prize for Poetry   \n",
       "251                  Mary Oliver            Pulitzer Prize for Poetry   \n",
       "200               Art Spiegelman  Pulitzer Prize for Special Citation   \n",
       "199               Art Spiegelman  Pulitzer Prize for Special Citation   \n",
       "\n",
       "     prize_year ratings_count  \n",
       "591        1921           164  \n",
       "590        1921            27  \n",
       "582        1923             6  \n",
       "579        1923             2  \n",
       "553        1928            20  \n",
       "555        1928            41  \n",
       "552        1928             3  \n",
       "554        1928            30  \n",
       "547        1929             2  \n",
       "545        1929             2  \n",
       "530        1932             8  \n",
       "531        1932           121  \n",
       "516        1935           112  \n",
       "515        1935           108  \n",
       "514        1935            96  \n",
       "518        1935           192  \n",
       "506        1937       1212669  \n",
       "502        1937           663  \n",
       "471        1943           960  \n",
       "476        1943           509  \n",
       "431        1952          3116  \n",
       "428        1952             5  \n",
       "432        1952            15  \n",
       "429        1952            44  \n",
       "403        1958           346  \n",
       "402        1958            54  \n",
       "399        1958            36  \n",
       "398        1958            30  \n",
       "397        1958            28  \n",
       "396        1958            31  \n",
       "395        1958            42  \n",
       "371        1963             5  \n",
       "370        1963             7  \n",
       "1027       1980           127  \n",
       "280        1980         21849  \n",
       "275        1980            25  \n",
       "1026       1980            54  \n",
       "253        1984          6075  \n",
       "251        1984          3852  \n",
       "200        1992        338001  \n",
       "199        1992        223599  "
      ]
     },
     "execution_count": 44,
     "metadata": {},
     "output_type": "execute_result"
    }
   ],
   "source": [
    "# Verificando se há obras duplicadas. Isto está sendo feito ao analisar se há um linha da tabela\n",
    "# com autor, ano de premiação e categoria de premiação repetidos\n",
    "df[df.duplicated(['author', 'prize_year', 'prize_category'], keep=False)].sort_values('prize_year')[main_columns + ['ratings_count']]"
   ]
  },
  {
   "cell_type": "markdown",
   "id": "e952a7f2",
   "metadata": {},
   "source": [
    "Para decidir qual registro manter na base, optou-se por aquele com o título mais similar ao encontrado no site The Pulitzer Prizes e, em caso de dúvida, manter o mais popular (com mais avaliações).\n",
    "\n",
    "Algumas observações sobre os títulos na base em relação ao site The Pulitzer Prizes:\n",
    "- \"The Supreme Court in United States History\" não menciona volume.\n",
    "- \"Main Currents in American Thought\" menciona volume 2\n",
    "- \"My Experiences in the World War\" não menciona volume\n",
    "- \"The Right Madness on Skye: Poems\" foi indicado em 1981\n",
    "- Não encontrei qualquer menção a \"House of Light\" de Mary Oliver ter vencido qualquer Pulitzer."
   ]
  },
  {
   "cell_type": "code",
   "execution_count": 45,
   "id": "93ea5884",
   "metadata": {},
   "outputs": [],
   "source": [
    "# Removendo registros\n",
    "df.drop([590, 582, 553, 555, 552, 547, 530, 514, 515, 516, 502, 476, 429, 428, 395,\n",
    "         396, 397, 398, 399, 402, 371, 275, 251, 199], axis='index', inplace=True)"
   ]
  },
  {
   "cell_type": "code",
   "execution_count": 46,
   "id": "08cd77e2",
   "metadata": {},
   "outputs": [],
   "source": [
    "# Alterando o ano de premiação\n",
    "df.at[1026, 'prize_year'] = 1981"
   ]
  },
  {
   "cell_type": "code",
   "execution_count": 47,
   "id": "c5971416",
   "metadata": {
    "scrolled": false
   },
   "outputs": [
    {
     "data": {
      "text/html": [
       "<div>\n",
       "<style scoped>\n",
       "    .dataframe tbody tr th:only-of-type {\n",
       "        vertical-align: middle;\n",
       "    }\n",
       "\n",
       "    .dataframe tbody tr th {\n",
       "        vertical-align: top;\n",
       "    }\n",
       "\n",
       "    .dataframe thead th {\n",
       "        text-align: right;\n",
       "    }\n",
       "</style>\n",
       "<table border=\"1\" class=\"dataframe\">\n",
       "  <thead>\n",
       "    <tr style=\"text-align: right;\">\n",
       "      <th></th>\n",
       "      <th>id</th>\n",
       "      <th>editions_id</th>\n",
       "      <th>title</th>\n",
       "      <th>author</th>\n",
       "      <th>author_id</th>\n",
       "      <th>published_year</th>\n",
       "      <th>rating</th>\n",
       "      <th>ratings_count</th>\n",
       "      <th>reviews_count</th>\n",
       "      <th>genres</th>\n",
       "      <th>synopsis</th>\n",
       "      <th>prize_category</th>\n",
       "      <th>prize_year</th>\n",
       "      <th>prize_status</th>\n",
       "    </tr>\n",
       "  </thead>\n",
       "  <tbody>\n",
       "  </tbody>\n",
       "</table>\n",
       "</div>"
      ],
      "text/plain": [
       "Empty DataFrame\n",
       "Columns: [id, editions_id, title, author, author_id, published_year, rating, ratings_count, reviews_count, genres, synopsis, prize_category, prize_year, prize_status]\n",
       "Index: []"
      ]
     },
     "execution_count": 47,
     "metadata": {},
     "output_type": "execute_result"
    }
   ],
   "source": [
    "# Checando se ainda há registro repetidos\n",
    "df[df.duplicated(['author', 'prize_year', 'prize_category'], keep=False)].sort_values('prize_year')"
   ]
  },
  {
   "cell_type": "markdown",
   "id": "9f2bab32",
   "metadata": {},
   "source": [
    "## Finalização"
   ]
  },
  {
   "cell_type": "code",
   "execution_count": 48,
   "id": "a5ca0af6",
   "metadata": {},
   "outputs": [],
   "source": [
    "# Redefinindo a coluna de índice\n",
    "df.reset_index(drop=True, inplace=True)"
   ]
  },
  {
   "cell_type": "code",
   "execution_count": 49,
   "id": "9e2a65d8",
   "metadata": {},
   "outputs": [],
   "source": [
    "# Salvando os dados\n",
    "df.to_excel('data/pulitzer/pulitzer_cleaned.xlsx', index=0)"
   ]
  },
  {
   "cell_type": "code",
   "execution_count": null,
   "id": "3354c7c1",
   "metadata": {},
   "outputs": [],
   "source": []
  }
 ],
 "metadata": {
  "kernelspec": {
   "display_name": "Python 3 (ipykernel)",
   "language": "python",
   "name": "python3"
  },
  "language_info": {
   "codemirror_mode": {
    "name": "ipython",
    "version": 3
   },
   "file_extension": ".py",
   "mimetype": "text/x-python",
   "name": "python",
   "nbconvert_exporter": "python",
   "pygments_lexer": "ipython3",
   "version": "3.10.6"
  }
 },
 "nbformat": 4,
 "nbformat_minor": 5
}
